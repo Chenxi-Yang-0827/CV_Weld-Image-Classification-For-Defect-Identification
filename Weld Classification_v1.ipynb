{
 "cells": [
  {
   "cell_type": "markdown",
   "id": "15504d8a",
   "metadata": {
    "id": "15504d8a",
    "pycharm": {
     "name": "#%% md\n"
    }
   },
   "source": [
    "## Importing necessary libraries"
   ]
  },
  {
   "cell_type": "code",
   "execution_count": 1,
   "id": "c4db47e1",
   "metadata": {
    "id": "c4db47e1",
    "pycharm": {
     "name": "#%%\n"
    }
   },
   "outputs": [],
   "source": [
    "# Data Manipulation and Visualization\n",
    "import os\n",
    "import pandas as pd\n",
    "import numpy as np\n",
    "import matplotlib.pyplot as plt\n",
    "import seaborn as sns\n",
    "from sklearn.decomposition import PCA\n",
    "\n",
    "# PyTorch, Torchvision, and vision related libraries\n",
    "import torch\n",
    "import torch.nn as nn\n",
    "import torch.nn.functional as f\n",
    "import torchvision\n",
    "import torch_optimizer as tor_optim\n",
    "from torch.optim import Adam, RMSprop, SGD\n",
    "from torch.utils.data import Dataset\n",
    "from torch.utils.data import DataLoader\n",
    "from torchvision import transforms\n",
    "from torchvision.datasets import ImageFolder\n",
    "from torchvision.models import resnet50, shufflenetv2\n",
    "\n",
    "# OpenCV, Pillow, SKImage, Albumentations\n",
    "import cv2\n",
    "import PIL\n",
    "import albumentations as al\n",
    "from albumentations.pytorch import ToTensorV2\n",
    "from PIL import Image\n",
    "from skimage import io\n",
    "\n",
    "# Logging and inbuilt libraries\n",
    "import wandb # weights and biases library\n",
    "import pickle\n",
    "import random, os, sys, logging\n",
    "import ipywidgets as widgets\n",
    "from tqdm import tqdm\n",
    "from ipywidgets import interact,interactive,interact_manual\n",
    "import warnings\n",
    "warnings.filterwarnings(\"ignore\")\n",
    "\n",
    "logging.propagate = False\n",
    "logging.getLogger().setLevel(logging.ERROR)\n"
   ]
  },
  {
   "cell_type": "markdown",
   "id": "ac882a4a",
   "metadata": {
    "id": "ac882a4a",
    "pycharm": {
     "name": "#%% md\n"
    }
   },
   "source": [
    "## Reading Images"
   ]
  },
  {
   "cell_type": "code",
   "execution_count": 2,
   "id": "2b9feaa6",
   "metadata": {
    "id": "2b9feaa6",
    "pycharm": {
     "name": "#%%\n"
    }
   },
   "outputs": [],
   "source": [
    "# Specify the folder names required for generating paths below\n",
    "train_good = ['images', 'train', 'good']\n",
    "train_bad  = ['images', 'train', 'bad']\n",
    "test_good  = ['images', 'test', 'good']\n",
    "test_bad   = ['images', 'test', 'bad']"
   ]
  },
  {
   "cell_type": "code",
   "execution_count": 3,
   "id": "6c2929c9",
   "metadata": {
    "id": "6c2929c9",
    "outputId": "c8852fcc-471f-4ca4-8b34-a40f525345b9",
    "pycharm": {
     "name": "#%%\n"
    }
   },
   "outputs": [
    {
     "name": "stdout",
     "output_type": "stream",
     "text": [
      "Train Good Images Directory: C:\\Users\\abhis\\OneDrive - Indiana University\\Documents\\INDIANA UNIVERSITY\\3rd Semester\\Inteligent SE\\project\\images\\train\\good\n",
      "Train Bad Images Directory: C:\\Users\\abhis\\OneDrive - Indiana University\\Documents\\INDIANA UNIVERSITY\\3rd Semester\\Inteligent SE\\project\\images\\train\\bad\n",
      "Test Good Images Directory: C:\\Users\\abhis\\OneDrive - Indiana University\\Documents\\INDIANA UNIVERSITY\\3rd Semester\\Inteligent SE\\project\\images\\test\\good\n",
      "Test Bad Images Directory: C:\\Users\\abhis\\OneDrive - Indiana University\\Documents\\INDIANA UNIVERSITY\\3rd Semester\\Inteligent SE\\project\\images\\test\\bad\n"
     ]
    }
   ],
   "source": [
    "# Generate required paths for the train and test folders\n",
    "owd = os.getcwd()\n",
    "train_good = os.path.join(owd,*train_good)\n",
    "train_bad  = os.path.join(owd,*train_bad)\n",
    "test_good  = os.path.join(owd,*test_good)\n",
    "test_bad   = os.path.join(owd,*test_bad)\n",
    "\n",
    "print(f'Train Good Images Directory: {train_good}')\n",
    "print(f'Train Bad Images Directory: {train_bad}')\n",
    "print(f'Test Good Images Directory: {test_good}')\n",
    "print(f'Test Bad Images Directory: {test_bad}')"
   ]
  },
  {
   "cell_type": "code",
   "execution_count": 4,
   "id": "aa0c8647",
   "metadata": {
    "id": "aa0c8647",
    "outputId": "f60a0e8f-d837-4f4c-ae6f-8c2684fe45eb",
    "pycharm": {
     "name": "#%%\n"
    }
   },
   "outputs": [
    {
     "name": "stdout",
     "output_type": "stream",
     "text": [
      "IMG_20170614_120303886.jpg\n",
      "IMG_20170614_120308063.jpg\n",
      "IMG_20170614_120315387.jpg\n",
      "IMG_20170614_120327108.jpg\n",
      "IMG_20170614_120340187.jpg\n",
      "IMG_20170614_120348169.jpg\n",
      "IMG_20170614_120351584.jpg\n",
      "IMG_20170614_120423701.jpg\n",
      "IMG_20170614_120436012.jpg\n",
      "IMG_20170614_120442497.jpg\n",
      "IMG_20170614_120505848.jpg\n",
      "IMG_20170614_120507501.jpg\n",
      "IMG_20170614_121217958_HDR.jpg\n",
      "IMG_20170614_121222933.jpg\n",
      "IMG_20170614_121244752.jpg\n",
      "IMG_20170614_121303102.jpg\n",
      "IMG_20170614_121306857.jpg\n",
      "IMG_20170614_121311304_HDR.jpg\n",
      "IMG_20170614_121320991.jpg\n",
      "IMG_20170614_121325200.jpg\n",
      "IMG_20170614_121333238.jpg\n",
      "IMG_20170614_121335628.jpg\n",
      "IMG_20170614_121338413.jpg\n",
      "IMG_20170614_121352119.jpg\n",
      "IMG_20170614_121405394.jpg\n",
      "IMG_20170614_121408361.jpg\n",
      "IMG_20170614_121413552.jpg\n",
      "IMG_20170614_121416645.jpg\n",
      "IMG_20170614_121430764.jpg\n",
      "IMG_20170614_121436051.jpg\n",
      "IMG_20170614_121450851.jpg\n",
      "IMG_20170614_121455251.jpg\n",
      "IMG_20170614_121500979.jpg\n",
      "IMG_20170614_121509688.jpg\n",
      "IMG_20170614_121511538.jpg\n",
      "IMG_20170614_121514611.jpg\n",
      "IMG_20170614_121525064.jpg\n",
      "IMG_20170614_121544553.jpg\n",
      "IMG_20170614_121550645.jpg\n",
      "IMG_20170614_121557174.jpg\n",
      "IMG_20170614_121601378.jpg\n",
      "IMG_20170614_121610881.jpg\n",
      "IMG_20170614_121615284.jpg\n",
      "IMG_20170614_121627357.jpg\n",
      "IMG_20170614_121641461_HDR.jpg\n",
      "IMG_20170614_121645652.jpg\n",
      "IMG_20170614_121650171.jpg\n",
      "IMG_20170614_121718571.jpg\n",
      "IMG_20170614_121722719.jpg\n",
      "IMG_20170614_121747127.jpg\n",
      "IMG_20170614_121749634.jpg\n",
      "IMG_20170614_121752010.jpg\n",
      "IMG_20170614_121758679.jpg\n",
      "IMG_20170614_121816175.jpg\n",
      "IMG_20170614_121819977.jpg\n",
      "IMG_20170614_121822111.jpg\n",
      "IMG_20170614_121824584.jpg\n",
      "IMG_20170614_121847701.jpg\n",
      "IMG_20170614_121851500.jpg\n",
      "IMG_20170614_121856031.jpg\n",
      "IMG_20170614_121857186.jpg\n",
      "IMG_20170614_121919050.jpg\n",
      "IMG_20170614_121921180.jpg\n",
      "IMG_20170614_121923709.jpg\n",
      "IMG_20170614_121937289.jpg\n",
      "IMG_20170614_121942088_HDR.jpg\n",
      "IMG_20170614_121948464.jpg\n",
      "IMG_20170614_121956342.jpg\n",
      "IMG_20170614_122000644.jpg\n",
      "IMG_20170614_122005769.jpg\n",
      "IMG_20170614_122025190.jpg\n",
      "IMG_20170614_122027774.jpg\n",
      "IMG_20170614_122033442.jpg\n",
      "IMG_20170614_122039938.jpg\n",
      "IMG_20170614_122045078.jpg\n",
      "IMG_20170614_122654401.jpg\n",
      "IMG_20170614_122658261.jpg\n",
      "IMG_20170614_122702237.jpg\n",
      "IMG_20170614_122707664.jpg\n",
      "IMG_20170614_122714175.jpg\n",
      "IMG_20170614_122728651.jpg\n",
      "IMG_20170614_122731251.jpg\n",
      "IMG_20170614_122738699.jpg\n",
      "IMG_20170614_122743540.jpg\n",
      "IMG_20170614_122747511.jpg\n",
      "IMG_20170614_122828244.jpg\n",
      "IMG_20170614_122830637.jpg\n",
      "IMG_20170614_122836037.jpg\n",
      "IMG_20170614_122846257.jpg\n",
      "IMG_20170614_122851636.jpg\n",
      "IMG_20170614_122853483.jpg\n",
      "IMG_20170614_122857234.jpg\n",
      "IMG_20170614_122901506.jpg\n",
      "IMG_20170614_122916281.jpg\n",
      "IMG_20170614_122921763.jpg\n",
      "IMG_20170614_122926778.jpg\n",
      "IMG_20170614_122928387.jpg\n",
      "IMG_20170614_123046041.jpg\n",
      "IMG_20170614_123050026.jpg\n",
      "IMG_20170614_123100021.jpg\n",
      "IMG_20170614_123105477.jpg\n",
      "IMG_20170614_123110426.jpg\n",
      "IMG_20170614_123140092.jpg\n",
      "IMG_20170614_123142051.jpg\n",
      "IMG_20170614_123145112.jpg\n",
      "IMG_20170614_123148494.jpg\n",
      "IMG_20170614_123155021.jpg\n",
      "IMG_20170614_123158029.jpg\n",
      "IMG_20170614_123200360.jpg\n",
      "IMG_20170614_123204168.jpg\n",
      "IMG_20170614_123206857.jpg\n",
      "IMG_20170614_123219628.jpg\n",
      "IMG_20170614_123224320.jpg\n",
      "IMG_20170614_123230171.jpg\n",
      "IMG_20170614_123240329.jpg\n",
      "IMG_20170614_123257328.jpg\n",
      "IMG_20170614_123301768.jpg\n",
      "IMG_20170614_123304914.jpg\n",
      "IMG_20170614_123308265.jpg\n",
      "IMG_20170614_123313011.jpg\n",
      "IMG_20170614_123417489_HDR.jpg\n",
      "IMG_20170614_123421188.jpg\n",
      "IMG_20170614_123425979.jpg\n",
      "IMG_20170614_123428995.jpg\n",
      "IMG_20170614_123454901.jpg\n",
      "IMG_20170614_123538633.jpg\n",
      "IMG_20170614_123541042.jpg\n",
      "IMG_20170614_123551683.jpg\n",
      "IMG_20170614_123555976.jpg\n",
      "IMG_20170614_123557814.jpg\n",
      "IMG_20170614_123559453.jpg\n",
      "IMG_20170614_123602735.jpg\n",
      "IMG_20170614_123605314.jpg\n",
      "IMG_20170614_123608335.jpg\n",
      "IMG_20170614_123858125.jpg\n",
      "IMG_20170614_123901084.jpg\n",
      "IMG_20170614_123904444.jpg\n",
      "IMG_20170614_123906965.jpg\n",
      "IMG_20170614_123910333.jpg\n",
      "IMG_20170614_123915257.jpg\n",
      "IMG_20170614_123917918.jpg\n",
      "IMG_20170614_123930009.jpg\n",
      "IMG_20170614_123936417.jpg\n",
      "IMG_20170614_123940220.jpg\n",
      "IMG_20170614_124136279.jpg\n",
      "IMG_20170614_124138682.jpg\n",
      "IMG_20170614_124147099_HDR.jpg\n",
      "IMG_20170614_124202306.jpg\n",
      "IMG_20170614_124205218.jpg\n",
      "IMG_20170614_124207892.jpg\n",
      "IMG_20170614_124217658.jpg\n",
      "IMG_20170614_124222963.jpg\n",
      "IMG_20170614_124230953.jpg\n",
      "IMG_20170614_124233849.jpg\n",
      "IMG_20170614_124236768.jpg\n",
      "IMG_20170614_124240917.jpg\n",
      "IMG_20170614_124246257.jpg\n",
      "IMG_20170614_124249755.jpg\n",
      "IMG_20170614_124256036.jpg\n",
      "IMG_20170614_124259009.jpg\n",
      "IMG_20170614_124306925.jpg\n",
      "IMG_20170614_124309572.jpg\n",
      "IMG_20170614_124322711.jpg\n",
      "IMG_20170614_124325697.jpg\n",
      "IMG_20170614_124332013_HDR.jpg\n",
      "IMG_20170614_124337282.jpg\n",
      "IMG_20170614_124351458.jpg\n",
      "IMG_20170614_124353677.jpg\n",
      "IMG_20170614_124356315.jpg\n",
      "IMG_20170614_124400969.jpg\n",
      "IMG_20170614_124409163.jpg\n",
      "IMG_20170614_124420153_HDR.jpg\n",
      "IMG_20170614_124426482.jpg\n",
      "IMG_20170614_124428934.jpg\n",
      "IMG_20170614_124432393.jpg\n",
      "IMG_20170614_124440309_HDR.jpg\n",
      "IMG_20170614_124443285.jpg\n",
      "IMG_20170614_124452734.jpg\n",
      "IMG_20170614_130555892.jpg\n",
      "IMG_20170614_130609503.jpg\n",
      "IMG_20170614_130612829.jpg\n"
     ]
    }
   ],
   "source": [
    "for infile in os.listdir(train_good):\n",
    "    print(infile)"
   ]
  },
  {
   "cell_type": "code",
   "execution_count": 14,
   "id": "95d4a38b",
   "metadata": {
    "id": "95d4a38b",
    "outputId": "e06340a6-7376-4828-ff92-45a69f06d7a4",
    "pycharm": {
     "name": "#%%\n"
    }
   },
   "outputs": [
    {
     "name": "stdout",
     "output_type": "stream",
     "text": [
      "IMG-20170615-WA0019.jpg\n",
      "IMG-20170615-WA0021.jpg\n",
      "IMG-20170615-WA0022.jpg\n",
      "IMG-20170615-WA0023.jpg\n",
      "IMG-20170615-WA0024.jpg\n",
      "IMG-20170615-WA0028.jpg\n",
      "IMG-20170615-WA0029.jpg\n",
      "IMG_20170614_121001420.jpg\n",
      "IMG_20170614_121006794.jpg\n",
      "IMG_20170614_121016213.jpg\n",
      "IMG_20170614_121123065.jpg\n",
      "IMG_20170614_121133283.jpg\n",
      "IMG_20170614_122811483.jpg\n",
      "IMG_20170614_123326776.jpg\n",
      "IMG_20170614_123336573.jpg\n",
      "IMG_20170614_123640280.jpg\n",
      "IMG_20170614_123726394.jpg\n",
      "IMG_20170614_123734511.jpg\n",
      "IMG_20170614_123739455.jpg\n",
      "IMG_20170614_123742334.jpg\n",
      "IMG_20170614_123747833_HDR.jpg\n",
      "IMG_20170614_130814967.jpg\n",
      "IMG_20170614_131001970.jpg\n",
      "IMG_20170614_131331353.jpg\n",
      "IMG_20170614_131430610.jpg\n",
      "IMG_20170614_131433180_HDR.jpg\n",
      "IMG_20170614_131515933.jpg\n",
      "IMG_20170614_131528301.jpg\n"
     ]
    }
   ],
   "source": [
    "for infile in os.listdir(train_bad):\n",
    "    print(infile)"
   ]
  },
  {
   "cell_type": "code",
   "execution_count": 15,
   "id": "3ab20520",
   "metadata": {
    "id": "3ab20520",
    "outputId": "463d078d-d2e5-4165-e1fb-ea6a32231465",
    "pycharm": {
     "name": "#%%\n"
    }
   },
   "outputs": [
    {
     "name": "stdout",
     "output_type": "stream",
     "text": [
      "IMG_20170614_121222933.jpg\n",
      "IMG_20170614_121316675_HDR.jpg\n",
      "IMG_20170614_121430764.jpg\n",
      "IMG_20170614_121557174.jpg\n",
      "IMG_20170614_122025190.jpg\n",
      "IMG_20170614_122030779.jpg\n",
      "IMG_20170614_122033442.jpg\n",
      "IMG_20170614_122738699.jpg\n",
      "IMG_20170614_123313011.jpg\n",
      "IMG_20170614_123557814.jpg\n",
      "IMG_20170614_123858125.jpg\n",
      "IMG_20170614_123904444.jpg\n",
      "IMG_20170614_123910333.jpg\n",
      "IMG_20170614_124246257.jpg\n",
      "IMG_20170614_130609503.jpg\n"
     ]
    }
   ],
   "source": [
    "for infile in os.listdir(test_good):\n",
    "    print(infile)"
   ]
  },
  {
   "cell_type": "code",
   "execution_count": 16,
   "id": "912b12c7",
   "metadata": {
    "id": "912b12c7",
    "outputId": "b86ea5c5-a73b-4880-a86e-9287aebc89ce",
    "pycharm": {
     "name": "#%%\n"
    }
   },
   "outputs": [
    {
     "name": "stdout",
     "output_type": "stream",
     "text": [
      "IMG-20170615-WA0020.jpg\n",
      "IMG-20170615-WA0021.jpg\n",
      "IMG-20170615-WA0022.jpg\n",
      "IMG-20170615-WA0023.jpg\n",
      "IMG_20170614_121006794.jpg\n",
      "IMG_20170614_121016213.jpg\n",
      "IMG_20170614_121126744.jpg\n",
      "IMG_20170614_121133283.jpg\n",
      "IMG_20170614_121143540.jpg\n",
      "IMG_20170614_123640280.jpg\n",
      "IMG_20170614_123739455.jpg\n",
      "IMG_20170614_123747833_HDR.jpg\n",
      "IMG_20170614_130725994.jpg\n",
      "IMG_20170614_130814967.jpg\n",
      "IMG_20170614_131531821.jpg\n"
     ]
    }
   ],
   "source": [
    "for infile in os.listdir(test_bad):\n",
    "    im = Image.open(os.path.join(test_bad,infile))\n",
    "    #im.show()\n",
    "    print(infile)\n",
    "    "
   ]
  },
  {
   "cell_type": "markdown",
   "id": "a52b21e1",
   "metadata": {
    "id": "a52b21e1",
    "pycharm": {
     "name": "#%% md\n"
    }
   },
   "source": [
    "## Image Pre-Processing and Augmentation"
   ]
  },
  {
   "cell_type": "code",
   "execution_count": 4,
   "id": "90de6386",
   "metadata": {
    "id": "90de6386",
    "pycharm": {
     "name": "#%%\n"
    }
   },
   "outputs": [],
   "source": [
    "# Resizing Images\n",
    "HEIGHT = 128\n",
    "WIDTH  = 128"
   ]
  },
  {
   "cell_type": "code",
   "execution_count": 18,
   "id": "7fdbca35",
   "metadata": {
    "id": "7fdbca35",
    "pycharm": {
     "name": "#%%\n"
    }
   },
   "outputs": [],
   "source": [
    "# Defining Transformations required for augmenting the images\n",
    "transform = al.Compose([\n",
    "            al.Resize(width=WIDTH, height=HEIGHT,p=1.0),\n",
    "    \n",
    "            al.Rotate(limit=90, p=1.0),\n",
    "    \n",
    "            al.HorizontalFlip(p=0.3),\n",
    "    \n",
    "            al.VerticalFlip(p=0.2),\n",
    "    \n",
    "            al.ColorJitter(contrast=2, p=0.2),\n",
    "    \n",
    "            al.ColorJitter(brightness=2, p=0.2),\n",
    "    \n",
    "            al.Normalize(\n",
    "                mean=[0.0, 0.0, 0.0],\n",
    "                std=[1.0, 1.0, 1.0],\n",
    "                max_pixel_value=255.0,\n",
    "            p=1.0),\n",
    "])"
   ]
  },
  {
   "cell_type": "code",
   "execution_count": 19,
   "id": "21875563",
   "metadata": {
    "id": "21875563",
    "pycharm": {
     "name": "#%%\n"
    }
   },
   "outputs": [],
   "source": [
    "# Augmented Images Directories\n",
    "aug_train_good = 'C:/Users/abhij/OneDrive - Indiana University/3rd Semester/Intro to Intelligent Systems/Project/images/aug_train/good'\n",
    "aug_train_bad  = 'C:/Users/abhij/OneDrive - Indiana University/3rd Semester/Intro to Intelligent Systems/Project/images/aug_train/bad'"
   ]
  },
  {
   "cell_type": "code",
   "execution_count": null,
   "id": "c2974845",
   "metadata": {
    "id": "c2974845",
    "pycharm": {
     "name": "#%%\n"
    }
   },
   "outputs": [],
   "source": [
    "def augment(IMG_DIR, AUG_PATH_IMAGE, num):\n",
    "    print(\"*******************Augmentation Started*****************************\")\n",
    "    for i, infile in enumerate(os.listdir(IMG_DIR)):\n",
    "        image = cv2.imread(os.path.join(IMG_DIR,infile))\n",
    "        image = cv2.cvtColor(image, cv2.COLOR_BGR2RGB)\n",
    "\n",
    "        for j in range(num):\n",
    "            transformed = transform(image=image)\n",
    "            transformed_image = transformed['image']\n",
    "            transformed_image = transformed_image*255\n",
    "            transformed_image = cv2.cvtColor(transformed_image, cv2.COLOR_BGR2RGB)\n",
    "            fname = AUG_PATH_IMAGE + '/' + infile[:-4]+ '_'+str(j)+'.jpg'\n",
    "            cv2.imwrite(fname, transformed_image)\n",
    "    print()\n",
    "    print(\"*******************Augmentation Finished*****************************\")"
   ]
  },
  {
   "cell_type": "code",
   "execution_count": null,
   "id": "55a015f7",
   "metadata": {
    "id": "55a015f7",
    "outputId": "de6b6cf8-ed02-44f2-8c29-513f3fb0deb2",
    "pycharm": {
     "name": "#%%\n"
    }
   },
   "outputs": [
    {
     "name": "stdout",
     "output_type": "stream",
     "text": [
      "*******************Augmentation Started*****************************\n",
      "\n",
      "*******************Augmentation Finished*****************************\n"
     ]
    }
   ],
   "source": [
    "augment(train_good, aug_train_good, 30)"
   ]
  },
  {
   "cell_type": "code",
   "execution_count": null,
   "id": "7d7d930c",
   "metadata": {
    "id": "7d7d930c",
    "outputId": "558ab200-12d7-46dd-a617-31157f92d5d7",
    "pycharm": {
     "name": "#%%\n"
    }
   },
   "outputs": [
    {
     "name": "stdout",
     "output_type": "stream",
     "text": [
      "*******************Augmentation Started*****************************\n",
      "\n",
      "*******************Augmentation Finished*****************************\n"
     ]
    }
   ],
   "source": [
    "augment(train_bad, aug_train_bad, 125)"
   ]
  },
  {
   "cell_type": "code",
   "execution_count": null,
   "id": "b1c0b796",
   "metadata": {
    "id": "b1c0b796",
    "pycharm": {
     "name": "#%%\n"
    }
   },
   "outputs": [],
   "source": []
  },
  {
   "cell_type": "code",
   "execution_count": null,
   "id": "3b7b45a6",
   "metadata": {
    "id": "3b7b45a6",
    "pycharm": {
     "name": "#%%\n"
    }
   },
   "outputs": [],
   "source": [
    "# Creating a csv file for train data to generate labels for all the good and bad images\n",
    "\n",
    "# labels_traindf = pd.DataFrame()\n",
    "\n",
    "# arr_img_tr = []\n",
    "# arr_lab_tr = []\n",
    "# for i in os.listdir(aug_train_good):\n",
    "#     arr_img_tr.append(i)\n",
    "#     arr_lab_tr.append(1)\n",
    "\n",
    "# for i in os.listdir(aug_train_bad):\n",
    "#     arr_img_tr.append(i)\n",
    "#     arr_lab_tr.append(0)\n",
    "    \n",
    "# labels_traindf['Image_fnames'] = arr_img_tr\n",
    "# labels_traindf['labels']       = arr_lab_tr\n",
    "# labels_traindf.to_csv('train.csv', index=False)"
   ]
  },
  {
   "cell_type": "code",
   "execution_count": null,
   "id": "f21f035f",
   "metadata": {
    "id": "f21f035f",
    "pycharm": {
     "name": "#%%\n"
    }
   },
   "outputs": [],
   "source": [
    "# Creating a csv file for test data to generate labels for all the good and bad images\n",
    "\n",
    "# labels_testdf  = pd.DataFrame()\n",
    "\n",
    "# arr_img_te = []\n",
    "# arr_lab_te = []\n",
    "# for i in os.listdir(test_good):\n",
    "#     arr_img_te.append(i)\n",
    "#     arr_lab_te.append(1)\n",
    "\n",
    "# for i in os.listdir(test_bad):\n",
    "#     arr_img_te.append(i)\n",
    "#     arr_lab_te.append(0)\n",
    "    \n",
    "# labels_testdf['Image_fnames'] = arr_img_te\n",
    "# labels_testdf['labels']       = arr_lab_te\n",
    "# labels_testdf.to_csv('test.csv', index=False)"
   ]
  },
  {
   "cell_type": "code",
   "execution_count": null,
   "id": "30818d43",
   "metadata": {
    "id": "30818d43",
    "pycharm": {
     "name": "#%%\n"
    }
   },
   "outputs": [],
   "source": [
    "# Creating a Dataset class \n",
    "# class WeldDataset(Dataset):\n",
    "#     def __init__(self, csv_file, root_dir, transform=None):\n",
    "#         self.annotations = pd.read_csv(csv_file)\n",
    "#         self.root_dir    = root_dir\n",
    "#         self.transform   = transform\n",
    "        \n",
    "#     def __len__(self):\n",
    "#         return len(self.annotations)   # train_set -> 8930, test_set -> 30\n",
    "        \n",
    "#     # Return a specific image and corresponding label to that image\n",
    "#     def __getitem__(self, index):\n",
    "#         # Index -> we don't have to choose it, PyTorch does it for us\n",
    "#         img_path = os.path.join(self.root_dir, self.annotations.iloc[index, 0])\n",
    "#         image    = io.imread(img_path)\n",
    "#         y_label  = torch.tensor(int(self.annotations.iloc[index, 1]))\n",
    "        \n",
    "#         if self.transform:\n",
    "#             image = self.tranform(image)\n",
    "            \n",
    "#         return (image, ylabel)   # returns 1 image and 1 corresponding label to that image"
   ]
  },
  {
   "cell_type": "code",
   "execution_count": null,
   "id": "4c4ccbd3",
   "metadata": {
    "id": "4c4ccbd3",
    "pycharm": {
     "name": "#%%\n"
    }
   },
   "outputs": [],
   "source": [
    "# Loading the data\n",
    "# train_dataset = WeldDataset(csv_file = 'train.csv', root_dir = 'train_set', transform = train_transform)\n",
    "# test_dataset  = WeldDataset(csv_file = 'test.csv', root_dir = 'test_set', transform = test_transform)\n",
    "\n",
    "# train_loader = DataLoader(dataset=train_dataset, batch_size = batch_size, shuffle=True)\n",
    "# test_loader  = DataLoader(dataset=test_dataset, batch_size = batch_size, shuffle=True)"
   ]
  },
  {
   "cell_type": "code",
   "execution_count": null,
   "id": "ca8ea0d1",
   "metadata": {
    "id": "ca8ea0d1",
    "pycharm": {
     "name": "#%%\n"
    }
   },
   "outputs": [],
   "source": []
  },
  {
   "cell_type": "code",
   "execution_count": 5,
   "id": "f20b2b9a",
   "metadata": {
    "id": "f20b2b9a",
    "outputId": "f731ec5e-aba5-436f-fef8-a8998d153990",
    "pycharm": {
     "name": "#%%\n"
    }
   },
   "outputs": [
    {
     "name": "stdout",
     "output_type": "stream",
     "text": [
      "(0, 'bad')\n",
      "(1, 'good')\n"
     ]
    }
   ],
   "source": [
    "# Defining classes related to weld defects\n",
    "classes = ['bad', 'good']\n",
    "\n",
    "for labels in enumerate(classes):\n",
    "    print(labels)"
   ]
  },
  {
   "cell_type": "code",
   "execution_count": 6,
   "id": "6f0d6b5b",
   "metadata": {
    "id": "6f0d6b5b",
    "pycharm": {
     "name": "#%%\n"
    }
   },
   "outputs": [],
   "source": [
    "# Defining final transformation to be applied to train and test images for creating dataloaders\n",
    "# Normalization values are specific to the ResNet models, because ResNet models have been pre-trained on these values\n",
    "\n",
    "train_transform = transforms.Compose([\n",
    "        transforms.Resize((WIDTH, HEIGHT)),\n",
    "        transforms.ToTensor(),\n",
    "        transforms.Normalize(mean=[0.485, 0.456, 0.406],\n",
    "                             std=[0.229, 0.224, 0.225])\n",
    "    ])\n",
    "\n",
    "test_transform = transforms.Compose([\n",
    "        transforms.Resize((WIDTH, HEIGHT)),\n",
    "        transforms.ToTensor(),\n",
    "        transforms.Normalize(mean=[0.485, 0.456, 0.406],\n",
    "                             std=[0.229, 0.224, 0.225])\n",
    "    ])"
   ]
  },
  {
   "cell_type": "markdown",
   "id": "6456bb4a",
   "metadata": {
    "id": "6456bb4a",
    "pycharm": {
     "name": "#%% md\n"
    }
   },
   "source": [
    "#### Hyperparameters"
   ]
  },
  {
   "cell_type": "code",
   "execution_count": 7,
   "id": "b693e715",
   "metadata": {
    "id": "b693e715",
    "pycharm": {
     "name": "#%%\n"
    }
   },
   "outputs": [],
   "source": [
    "# Initializing the values\n",
    "in_channel    = 3\n",
    "num_classes   = 2\n",
    "learning_rate = 0.01\n",
    "batch_size    = 32\n",
    "num_epochs    = 20"
   ]
  },
  {
   "cell_type": "markdown",
   "id": "f538e2f6",
   "metadata": {
    "id": "f538e2f6",
    "pycharm": {
     "name": "#%% md\n"
    }
   },
   "source": [
    "#### Loading Datasets and Creating DataLoaders"
   ]
  },
  {
   "cell_type": "code",
   "execution_count": 8,
   "id": "faf67fe9",
   "metadata": {
    "id": "faf67fe9",
    "outputId": "1ece9c38-0f03-470d-9a9b-4648f1080609",
    "pycharm": {
     "name": "#%%\n"
    },
    "scrolled": true
   },
   "outputs": [
    {
     "name": "stdout",
     "output_type": "stream",
     "text": [
      "Train Dataset: Dataset ImageFolder\n",
      "    Number of datapoints: 8930\n",
      "    Root location: images/aug_train\n",
      "    StandardTransform\n",
      "Transform: Compose(\n",
      "               Resize(size=(128, 128), interpolation=bilinear, max_size=None, antialias=None)\n",
      "               ToTensor()\n",
      "               Normalize(mean=[0.485, 0.456, 0.406], std=[0.229, 0.224, 0.225])\n",
      "           ) \n",
      "Test Dataset: Dataset ImageFolder\n",
      "    Number of datapoints: 30\n",
      "    Root location: images/test\n",
      "    StandardTransform\n",
      "Transform: Compose(\n",
      "               Resize(size=(128, 128), interpolation=bilinear, max_size=None, antialias=None)\n",
      "               ToTensor()\n",
      "               Normalize(mean=[0.485, 0.456, 0.406], std=[0.229, 0.224, 0.225])\n",
      "           )\n",
      "Train Dataset Labels: {'bad': 0, 'good': 1} \n",
      "Test Dataset Labels: {'bad': 0, 'good': 1}\n"
     ]
    }
   ],
   "source": [
    "# Load Datasets\n",
    "train_dataset = ImageFolder(\"images/aug_train\", train_transform)\n",
    "test_dataset = ImageFolder(\"images/test\", test_transform)\n",
    "\n",
    "print(f'Train Dataset: {train_dataset} \\nTest Dataset: {test_dataset}')\n",
    "print(f'Train Dataset Labels: {train_dataset.class_to_idx} \\nTest Dataset Labels: {test_dataset.class_to_idx}')\n",
    "\n",
    "# Create train and test dataloaders\n",
    "train_loader = DataLoader(dataset=train_dataset, batch_size=batch_size, shuffle=True)\n",
    "test_loader  = DataLoader(dataset=test_dataset, batch_size=batch_size, shuffle=True)"
   ]
  },
  {
   "cell_type": "markdown",
   "id": "7f66004f",
   "metadata": {
    "id": "7f66004f",
    "pycharm": {
     "name": "#%% md\n"
    }
   },
   "source": [
    "## ResNet 50 with Adam Optimizer"
   ]
  },
  {
   "cell_type": "code",
   "execution_count": 12,
   "id": "de4c9426",
   "metadata": {
    "id": "de4c9426",
    "outputId": "c1250382-a4b7-43a3-a63a-3c55ff9aca70",
    "pycharm": {
     "name": "#%%\n"
    }
   },
   "outputs": [
    {
     "data": {
      "text/plain": [
       "'cuda'"
      ]
     },
     "execution_count": 12,
     "metadata": {},
     "output_type": "execute_result"
    }
   ],
   "source": [
    "# Setting the device as gpu or cpu\n",
    "device = ('cuda' if torch.cuda.is_available() else 'cpu')\n",
    "device"
   ]
  },
  {
   "cell_type": "code",
   "execution_count": 16,
   "id": "16893230",
   "metadata": {
    "id": "16893230",
    "outputId": "79045073-221f-4f76-c85e-1749714180b4",
    "pycharm": {
     "name": "#%%\n"
    }
   },
   "outputs": [],
   "source": [
    "# Loading pre-trained ResNet 50 model\n",
    "model = resnet50(pretrained = True)"
   ]
  },
  {
   "cell_type": "code",
   "execution_count": 17,
   "id": "c6ce5b8d",
   "metadata": {
    "id": "c6ce5b8d",
    "outputId": "48fbe6bf-3981-44db-84fa-3c0fb68766fe",
    "pycharm": {
     "name": "#%%\n"
    }
   },
   "outputs": [],
   "source": [
    "# Chaning the output layer of the resnet 50 model\n",
    "model.fc = nn.Linear(in_features=2048, out_features=2)\n",
    "model = model.to(device)"
   ]
  },
  {
   "cell_type": "code",
   "execution_count": 18,
   "id": "12496051",
   "metadata": {
    "id": "12496051",
    "outputId": "2c017c7e-1622-49f6-bb04-55027703d11f",
    "pycharm": {
     "name": "#%%\n"
    }
   },
   "outputs": [
    {
     "data": {
      "text/plain": [
       "True"
      ]
     },
     "execution_count": 18,
     "metadata": {},
     "output_type": "execute_result"
    }
   ],
   "source": [
    "# Checking if the model is on cuda/gpu or not\n",
    "next(model.parameters()).is_cuda"
   ]
  },
  {
   "cell_type": "markdown",
   "id": "5834991a",
   "metadata": {
    "id": "5834991a",
    "pycharm": {
     "name": "#%% md\n"
    }
   },
   "source": [
    "#### Optimizer and Loss Function"
   ]
  },
  {
   "cell_type": "code",
   "execution_count": 19,
   "id": "a74187f3",
   "metadata": {
    "id": "a74187f3",
    "pycharm": {
     "name": "#%%\n"
    }
   },
   "outputs": [],
   "source": [
    "# Initializing Optimizer\n",
    "optimizer = Adam(model.parameters(), lr=learning_rate, weight_decay=0.0001)\n",
    "\n",
    "# Initializing Loss Function\n",
    "loss_fn = nn.CrossEntropyLoss()"
   ]
  },
  {
   "cell_type": "code",
   "execution_count": 135,
   "id": "9fe08f70",
   "metadata": {
    "id": "9fe08f70",
    "pycharm": {
     "name": "#%%\n"
    }
   },
   "outputs": [],
   "source": [
    "# os.environ['CUDA_VISIBLE_DEVICES']='2, 3'"
   ]
  },
  {
   "cell_type": "markdown",
   "id": "afc44eb2",
   "metadata": {
    "id": "afc44eb2",
    "pycharm": {
     "name": "#%% md\n"
    }
   },
   "source": [
    "#### Training and Evaluate the Model"
   ]
  },
  {
   "cell_type": "code",
   "execution_count": null,
   "id": "jGLw-Wz9U4fv",
   "metadata": {
    "id": "jGLw-Wz9U4fv",
    "pycharm": {
     "name": "#%%\n"
    }
   },
   "outputs": [],
   "source": []
  },
  {
   "cell_type": "code",
   "execution_count": 20,
   "id": "dfe0a3fd",
   "metadata": {
    "id": "dfe0a3fd",
    "outputId": "d23f4373-8d9a-4641-e702-9ac01edfbb92",
    "pycharm": {
     "name": "#%%\n"
    }
   },
   "outputs": [],
   "source": [
    "def train_model(model):\n",
    "    train_loss     = []\n",
    "    for epoch in range(num_epochs):\n",
    "        running_loss = 0.0\n",
    "        with tqdm(train_loader, unit='batch') as te:\n",
    "            for i, (image, label) in enumerate(te):\n",
    "                image = image.to(device)\n",
    "                label = label.to(device)\n",
    "\n",
    "                pred = model(image)\n",
    "\n",
    "                loss = loss_fn(pred, label)\n",
    "\n",
    "                # train_prob = train_prob.cpu() # Assigining train_probabilites to cpu to prevent maxing out of CUDA memory\n",
    "                optimizer.zero_grad()\n",
    "                loss.backward()\n",
    "                optimizer.step()\n",
    "                running_loss += loss.item()\n",
    "                \n",
    "                if i % 70 == 69:    # print and store every 70 mini-batches: 4 times per epoch\n",
    "                    print(f'[{epoch + 1}, {i + 1:5d}] loss: {running_loss / 70:.3f}')\n",
    "                    train_loss.append(running_loss / 70)\n",
    "                    \n",
    "                    running_loss = 0.0\n",
    "                    \n",
    "    return model, train_loss"
   ]
  },
  {
   "cell_type": "code",
   "execution_count": null,
   "id": "57eb8506",
   "metadata": {},
   "outputs": [],
   "source": []
  },
  {
   "cell_type": "code",
   "execution_count": 21,
   "id": "x0pSuLjPU2ew",
   "metadata": {
    "id": "x0pSuLjPU2ew",
    "pycharm": {
     "name": "#%%\n"
    }
   },
   "outputs": [],
   "source": [
    "def test_model(model):\n",
    "    with torch.no_grad():\n",
    "        correct = 0\n",
    "        total = 0\n",
    "        for test_image, test_label in test_loader:\n",
    "            test_image = test_image.to(device)\n",
    "            test_label = test_label.to(device)\n",
    "            test_prob  = model(test_image)\n",
    "            # test_prob  = test_prob.cpu() \n",
    "\n",
    "            test_pred  = torch.max(test_prob, 1).indices\n",
    "    #         print(test_label, test_pred)\n",
    "    #         test_acc   += int(torch.sum(test_pred == test_label))\n",
    "            total += test_label.size(0)\n",
    "            correct += (test_pred == test_label).sum().item()\n",
    "\n",
    "        #ep_test_acc = test_acc / len(test_loader)\n",
    "\n",
    "        print(f'Accuracy of the network on the test images: {100 * correct // total} %')"
   ]
  },
  {
   "cell_type": "code",
   "execution_count": 22,
   "id": "c8fc449f",
   "metadata": {
    "id": "c8fc449f",
    "outputId": "8bfbe930-3f5d-458c-9adb-2712eeeaabf2",
    "pycharm": {
     "name": "#%%\n"
    },
    "scrolled": true
   },
   "outputs": [
    {
     "name": "stderr",
     "output_type": "stream",
     "text": [
      " 25%|███████████████████▊                                                          | 71/280 [00:17<00:43,  4.84batch/s]"
     ]
    },
    {
     "name": "stdout",
     "output_type": "stream",
     "text": [
      "[1,    70] loss: 0.946\n"
     ]
    },
    {
     "name": "stderr",
     "output_type": "stream",
     "text": [
      " 50%|██████████████████████████████████████▊                                      | 141/280 [00:31<00:25,  5.47batch/s]"
     ]
    },
    {
     "name": "stdout",
     "output_type": "stream",
     "text": [
      "[1,   140] loss: 0.673\n"
     ]
    },
    {
     "name": "stderr",
     "output_type": "stream",
     "text": [
      " 75%|██████████████████████████████████████████████████████████                   | 211/280 [00:44<00:12,  5.66batch/s]"
     ]
    },
    {
     "name": "stdout",
     "output_type": "stream",
     "text": [
      "[1,   210] loss: 0.650\n"
     ]
    },
    {
     "name": "stderr",
     "output_type": "stream",
     "text": [
      "100%|█████████████████████████████████████████████████████████████████████████████| 280/280 [00:56<00:00,  4.91batch/s]\n"
     ]
    },
    {
     "name": "stdout",
     "output_type": "stream",
     "text": [
      "[1,   280] loss: 0.654\n"
     ]
    },
    {
     "name": "stderr",
     "output_type": "stream",
     "text": [
      " 25%|███████████████████▊                                                          | 71/280 [00:12<00:37,  5.64batch/s]"
     ]
    },
    {
     "name": "stdout",
     "output_type": "stream",
     "text": [
      "[2,    70] loss: 0.601\n"
     ]
    },
    {
     "name": "stderr",
     "output_type": "stream",
     "text": [
      " 50%|██████████████████████████████████████▊                                      | 141/280 [00:25<00:25,  5.52batch/s]"
     ]
    },
    {
     "name": "stdout",
     "output_type": "stream",
     "text": [
      "[2,   140] loss: 0.591\n"
     ]
    },
    {
     "name": "stderr",
     "output_type": "stream",
     "text": [
      " 75%|██████████████████████████████████████████████████████████                   | 211/280 [00:38<00:12,  5.51batch/s]"
     ]
    },
    {
     "name": "stdout",
     "output_type": "stream",
     "text": [
      "[2,   210] loss: 0.575\n"
     ]
    },
    {
     "name": "stderr",
     "output_type": "stream",
     "text": [
      "100%|█████████████████████████████████████████████████████████████████████████████| 280/280 [00:51<00:00,  5.40batch/s]\n"
     ]
    },
    {
     "name": "stdout",
     "output_type": "stream",
     "text": [
      "[2,   280] loss: 0.637\n"
     ]
    },
    {
     "name": "stderr",
     "output_type": "stream",
     "text": [
      " 25%|███████████████████▌                                                          | 70/280 [00:13<00:37,  5.65batch/s]"
     ]
    },
    {
     "name": "stdout",
     "output_type": "stream",
     "text": [
      "[3,    70] loss: 0.584\n"
     ]
    },
    {
     "name": "stderr",
     "output_type": "stream",
     "text": [
      " 50%|██████████████████████████████████████▊                                      | 141/280 [00:27<00:27,  5.08batch/s]"
     ]
    },
    {
     "name": "stdout",
     "output_type": "stream",
     "text": [
      "[3,   140] loss: 0.555\n"
     ]
    },
    {
     "name": "stderr",
     "output_type": "stream",
     "text": [
      " 75%|█████████████████████████████████████████████████████████▊                   | 210/280 [00:41<00:14,  4.74batch/s]"
     ]
    },
    {
     "name": "stdout",
     "output_type": "stream",
     "text": [
      "[3,   210] loss: 0.513\n"
     ]
    },
    {
     "name": "stderr",
     "output_type": "stream",
     "text": [
      "100%|█████████████████████████████████████████████████████████████████████████████| 280/280 [00:54<00:00,  5.15batch/s]\n"
     ]
    },
    {
     "name": "stdout",
     "output_type": "stream",
     "text": [
      "[3,   280] loss: 0.558\n"
     ]
    },
    {
     "name": "stderr",
     "output_type": "stream",
     "text": [
      " 25%|███████████████████▊                                                          | 71/280 [00:13<00:37,  5.52batch/s]"
     ]
    },
    {
     "name": "stdout",
     "output_type": "stream",
     "text": [
      "[4,    70] loss: 0.564\n"
     ]
    },
    {
     "name": "stderr",
     "output_type": "stream",
     "text": [
      " 50%|██████████████████████████████████████▊                                      | 141/280 [00:25<00:24,  5.77batch/s]"
     ]
    },
    {
     "name": "stdout",
     "output_type": "stream",
     "text": [
      "[4,   140] loss: 0.515\n"
     ]
    },
    {
     "name": "stderr",
     "output_type": "stream",
     "text": [
      " 75%|██████████████████████████████████████████████████████████                   | 211/280 [00:37<00:12,  5.57batch/s]"
     ]
    },
    {
     "name": "stdout",
     "output_type": "stream",
     "text": [
      "[4,   210] loss: 0.507\n"
     ]
    },
    {
     "name": "stderr",
     "output_type": "stream",
     "text": [
      "100%|█████████████████████████████████████████████████████████████████████████████| 280/280 [00:49<00:00,  5.62batch/s]\n"
     ]
    },
    {
     "name": "stdout",
     "output_type": "stream",
     "text": [
      "[4,   280] loss: 0.444\n"
     ]
    },
    {
     "name": "stderr",
     "output_type": "stream",
     "text": [
      " 25%|███████████████████▊                                                          | 71/280 [00:12<00:36,  5.69batch/s]"
     ]
    },
    {
     "name": "stdout",
     "output_type": "stream",
     "text": [
      "[5,    70] loss: 0.456\n"
     ]
    },
    {
     "name": "stderr",
     "output_type": "stream",
     "text": [
      " 50%|██████████████████████████████████████▊                                      | 141/280 [00:24<00:24,  5.78batch/s]"
     ]
    },
    {
     "name": "stdout",
     "output_type": "stream",
     "text": [
      "[5,   140] loss: 0.423\n"
     ]
    },
    {
     "name": "stderr",
     "output_type": "stream",
     "text": [
      " 75%|██████████████████████████████████████████████████████████                   | 211/280 [00:36<00:11,  5.88batch/s]"
     ]
    },
    {
     "name": "stdout",
     "output_type": "stream",
     "text": [
      "[5,   210] loss: 0.395\n"
     ]
    },
    {
     "name": "stderr",
     "output_type": "stream",
     "text": [
      "100%|█████████████████████████████████████████████████████████████████████████████| 280/280 [00:52<00:00,  5.33batch/s]\n"
     ]
    },
    {
     "name": "stdout",
     "output_type": "stream",
     "text": [
      "[5,   280] loss: 0.395\n"
     ]
    },
    {
     "name": "stderr",
     "output_type": "stream",
     "text": [
      " 25%|███████████████████▊                                                          | 71/280 [00:14<00:36,  5.78batch/s]"
     ]
    },
    {
     "name": "stdout",
     "output_type": "stream",
     "text": [
      "[6,    70] loss: 0.445\n"
     ]
    },
    {
     "name": "stderr",
     "output_type": "stream",
     "text": [
      " 50%|██████████████████████████████████████▌                                      | 140/280 [00:28<00:25,  5.40batch/s]"
     ]
    },
    {
     "name": "stdout",
     "output_type": "stream",
     "text": [
      "[6,   140] loss: 0.394\n"
     ]
    },
    {
     "name": "stderr",
     "output_type": "stream",
     "text": [
      " 75%|█████████████████████████████████████████████████████████▊                   | 210/280 [00:43<00:16,  4.14batch/s]"
     ]
    },
    {
     "name": "stdout",
     "output_type": "stream",
     "text": [
      "[6,   210] loss: 0.379\n"
     ]
    },
    {
     "name": "stderr",
     "output_type": "stream",
     "text": [
      "100%|█████████████████████████████████████████████████████████████████████████████| 280/280 [01:00<00:00,  4.60batch/s]\n"
     ]
    },
    {
     "name": "stdout",
     "output_type": "stream",
     "text": [
      "[6,   280] loss: 0.361\n"
     ]
    },
    {
     "name": "stderr",
     "output_type": "stream",
     "text": [
      " 25%|███████████████████▊                                                          | 71/280 [00:17<00:50,  4.18batch/s]"
     ]
    },
    {
     "name": "stdout",
     "output_type": "stream",
     "text": [
      "[7,    70] loss: 0.364\n"
     ]
    },
    {
     "name": "stderr",
     "output_type": "stream",
     "text": [
      " 50%|██████████████████████████████████████▌                                      | 140/280 [00:34<00:37,  3.78batch/s]"
     ]
    },
    {
     "name": "stdout",
     "output_type": "stream",
     "text": [
      "[7,   140] loss: 0.356\n"
     ]
    },
    {
     "name": "stderr",
     "output_type": "stream",
     "text": [
      " 75%|█████████████████████████████████████████████████████████▊                   | 210/280 [00:52<00:18,  3.88batch/s]"
     ]
    },
    {
     "name": "stdout",
     "output_type": "stream",
     "text": [
      "[7,   210] loss: 0.353\n"
     ]
    },
    {
     "name": "stderr",
     "output_type": "stream",
     "text": [
      "100%|█████████████████████████████████████████████████████████████████████████████| 280/280 [01:10<00:00,  3.97batch/s]\n"
     ]
    },
    {
     "name": "stdout",
     "output_type": "stream",
     "text": [
      "[7,   280] loss: 0.361\n"
     ]
    },
    {
     "name": "stderr",
     "output_type": "stream",
     "text": [
      " 25%|███████████████████▌                                                          | 70/280 [00:17<00:48,  4.30batch/s]"
     ]
    },
    {
     "name": "stdout",
     "output_type": "stream",
     "text": [
      "[8,    70] loss: 0.355\n"
     ]
    },
    {
     "name": "stderr",
     "output_type": "stream",
     "text": [
      " 50%|██████████████████████████████████████▌                                      | 140/280 [00:34<00:35,  3.92batch/s]"
     ]
    },
    {
     "name": "stdout",
     "output_type": "stream",
     "text": [
      "[8,   140] loss: 0.377\n"
     ]
    },
    {
     "name": "stderr",
     "output_type": "stream",
     "text": [
      " 75%|█████████████████████████████████████████████████████████▊                   | 210/280 [00:51<00:17,  4.09batch/s]"
     ]
    },
    {
     "name": "stdout",
     "output_type": "stream",
     "text": [
      "[8,   210] loss: 0.327\n"
     ]
    },
    {
     "name": "stderr",
     "output_type": "stream",
     "text": [
      "100%|█████████████████████████████████████████████████████████████████████████████| 280/280 [01:08<00:00,  4.06batch/s]\n"
     ]
    },
    {
     "name": "stdout",
     "output_type": "stream",
     "text": [
      "[8,   280] loss: 0.327\n"
     ]
    },
    {
     "name": "stderr",
     "output_type": "stream",
     "text": [
      " 25%|███████████████████▌                                                          | 70/280 [00:17<00:52,  3.98batch/s]"
     ]
    },
    {
     "name": "stdout",
     "output_type": "stream",
     "text": [
      "[9,    70] loss: 0.336\n"
     ]
    },
    {
     "name": "stderr",
     "output_type": "stream",
     "text": [
      " 50%|██████████████████████████████████████▊                                      | 141/280 [00:31<00:23,  5.87batch/s]"
     ]
    },
    {
     "name": "stdout",
     "output_type": "stream",
     "text": [
      "[9,   140] loss: 0.327\n"
     ]
    },
    {
     "name": "stderr",
     "output_type": "stream",
     "text": [
      " 75%|██████████████████████████████████████████████████████████                   | 211/280 [00:44<00:12,  5.72batch/s]"
     ]
    },
    {
     "name": "stdout",
     "output_type": "stream",
     "text": [
      "[9,   210] loss: 0.305\n"
     ]
    },
    {
     "name": "stderr",
     "output_type": "stream",
     "text": [
      "100%|█████████████████████████████████████████████████████████████████████████████| 280/280 [00:56<00:00,  4.92batch/s]\n"
     ]
    },
    {
     "name": "stdout",
     "output_type": "stream",
     "text": [
      "[9,   280] loss: 0.331\n"
     ]
    },
    {
     "name": "stderr",
     "output_type": "stream",
     "text": [
      " 25%|███████████████████▊                                                          | 71/280 [00:13<00:44,  4.67batch/s]"
     ]
    },
    {
     "name": "stdout",
     "output_type": "stream",
     "text": [
      "[10,    70] loss: 0.299\n"
     ]
    },
    {
     "name": "stderr",
     "output_type": "stream",
     "text": [
      " 50%|██████████████████████████████████████▊                                      | 141/280 [00:25<00:25,  5.41batch/s]"
     ]
    },
    {
     "name": "stdout",
     "output_type": "stream",
     "text": [
      "[10,   140] loss: 0.315\n"
     ]
    },
    {
     "name": "stderr",
     "output_type": "stream",
     "text": [
      " 75%|██████████████████████████████████████████████████████████                   | 211/280 [00:39<00:12,  5.74batch/s]"
     ]
    },
    {
     "name": "stdout",
     "output_type": "stream",
     "text": [
      "[10,   210] loss: 0.291\n"
     ]
    },
    {
     "name": "stderr",
     "output_type": "stream",
     "text": [
      "100%|█████████████████████████████████████████████████████████████████████████████| 280/280 [00:51<00:00,  5.43batch/s]\n"
     ]
    },
    {
     "name": "stdout",
     "output_type": "stream",
     "text": [
      "[10,   280] loss: 0.276\n"
     ]
    },
    {
     "name": "stderr",
     "output_type": "stream",
     "text": [
      " 25%|███████████████████▊                                                          | 71/280 [00:12<00:37,  5.60batch/s]"
     ]
    },
    {
     "name": "stdout",
     "output_type": "stream",
     "text": [
      "[11,    70] loss: 0.263\n"
     ]
    },
    {
     "name": "stderr",
     "output_type": "stream",
     "text": [
      " 50%|██████████████████████████████████████▌                                      | 140/280 [00:25<00:25,  5.39batch/s]"
     ]
    },
    {
     "name": "stdout",
     "output_type": "stream",
     "text": [
      "[11,   140] loss: 0.251\n"
     ]
    },
    {
     "name": "stderr",
     "output_type": "stream",
     "text": [
      " 75%|██████████████████████████████████████████████████████████                   | 211/280 [00:38<00:11,  5.85batch/s]"
     ]
    },
    {
     "name": "stdout",
     "output_type": "stream",
     "text": [
      "[11,   210] loss: 0.297\n"
     ]
    },
    {
     "name": "stderr",
     "output_type": "stream",
     "text": [
      "100%|█████████████████████████████████████████████████████████████████████████████| 280/280 [00:51<00:00,  5.46batch/s]\n"
     ]
    },
    {
     "name": "stdout",
     "output_type": "stream",
     "text": [
      "[11,   280] loss: 0.301\n"
     ]
    },
    {
     "name": "stderr",
     "output_type": "stream",
     "text": [
      " 25%|███████████████████▊                                                          | 71/280 [00:13<00:38,  5.48batch/s]"
     ]
    },
    {
     "name": "stdout",
     "output_type": "stream",
     "text": [
      "[12,    70] loss: 0.372\n"
     ]
    },
    {
     "name": "stderr",
     "output_type": "stream",
     "text": [
      " 50%|██████████████████████████████████████▊                                      | 141/280 [00:26<00:24,  5.64batch/s]"
     ]
    },
    {
     "name": "stdout",
     "output_type": "stream",
     "text": [
      "[12,   140] loss: 0.288\n"
     ]
    },
    {
     "name": "stderr",
     "output_type": "stream",
     "text": [
      " 75%|█████████████████████████████████████████████████████████▊                   | 210/280 [00:38<00:12,  5.54batch/s]"
     ]
    },
    {
     "name": "stdout",
     "output_type": "stream",
     "text": [
      "[12,   210] loss: 0.264\n"
     ]
    },
    {
     "name": "stderr",
     "output_type": "stream",
     "text": [
      "100%|█████████████████████████████████████████████████████████████████████████████| 280/280 [00:52<00:00,  5.35batch/s]\n"
     ]
    },
    {
     "name": "stdout",
     "output_type": "stream",
     "text": [
      "[12,   280] loss: 0.253\n"
     ]
    },
    {
     "name": "stderr",
     "output_type": "stream",
     "text": [
      " 25%|███████████████████▊                                                          | 71/280 [00:13<00:35,  5.90batch/s]"
     ]
    },
    {
     "name": "stdout",
     "output_type": "stream",
     "text": [
      "[13,    70] loss: 0.270\n"
     ]
    },
    {
     "name": "stderr",
     "output_type": "stream",
     "text": [
      " 50%|██████████████████████████████████████▌                                      | 140/280 [00:26<00:28,  4.90batch/s]"
     ]
    },
    {
     "name": "stdout",
     "output_type": "stream",
     "text": [
      "[13,   140] loss: 0.258\n"
     ]
    },
    {
     "name": "stderr",
     "output_type": "stream",
     "text": [
      " 75%|█████████████████████████████████████████████████████████▊                   | 210/280 [00:39<00:14,  4.96batch/s]"
     ]
    },
    {
     "name": "stdout",
     "output_type": "stream",
     "text": [
      "[13,   210] loss: 0.246\n"
     ]
    },
    {
     "name": "stderr",
     "output_type": "stream",
     "text": [
      "100%|█████████████████████████████████████████████████████████████████████████████| 280/280 [00:52<00:00,  5.38batch/s]\n"
     ]
    },
    {
     "name": "stdout",
     "output_type": "stream",
     "text": [
      "[13,   280] loss: 0.280\n"
     ]
    },
    {
     "name": "stderr",
     "output_type": "stream",
     "text": [
      " 25%|███████████████████▊                                                          | 71/280 [00:13<00:37,  5.62batch/s]"
     ]
    },
    {
     "name": "stdout",
     "output_type": "stream",
     "text": [
      "[14,    70] loss: 0.243\n"
     ]
    },
    {
     "name": "stderr",
     "output_type": "stream",
     "text": [
      " 50%|██████████████████████████████████████▊                                      | 141/280 [00:26<00:23,  5.82batch/s]"
     ]
    },
    {
     "name": "stdout",
     "output_type": "stream",
     "text": [
      "[14,   140] loss: 0.250\n"
     ]
    },
    {
     "name": "stderr",
     "output_type": "stream",
     "text": [
      " 75%|██████████████████████████████████████████████████████████                   | 211/280 [00:38<00:11,  5.80batch/s]"
     ]
    },
    {
     "name": "stdout",
     "output_type": "stream",
     "text": [
      "[14,   210] loss: 0.263\n"
     ]
    },
    {
     "name": "stderr",
     "output_type": "stream",
     "text": [
      "100%|█████████████████████████████████████████████████████████████████████████████| 280/280 [00:50<00:00,  5.53batch/s]\n"
     ]
    },
    {
     "name": "stdout",
     "output_type": "stream",
     "text": [
      "[14,   280] loss: 0.239\n"
     ]
    },
    {
     "name": "stderr",
     "output_type": "stream",
     "text": [
      " 25%|███████████████████▊                                                          | 71/280 [00:12<00:36,  5.71batch/s]"
     ]
    },
    {
     "name": "stdout",
     "output_type": "stream",
     "text": [
      "[15,    70] loss: 0.241\n"
     ]
    },
    {
     "name": "stderr",
     "output_type": "stream",
     "text": [
      " 50%|██████████████████████████████████████▊                                      | 141/280 [00:25<00:23,  5.83batch/s]"
     ]
    },
    {
     "name": "stdout",
     "output_type": "stream",
     "text": [
      "[15,   140] loss: 0.240\n"
     ]
    },
    {
     "name": "stderr",
     "output_type": "stream",
     "text": [
      " 75%|██████████████████████████████████████████████████████████                   | 211/280 [00:38<00:11,  5.76batch/s]"
     ]
    },
    {
     "name": "stdout",
     "output_type": "stream",
     "text": [
      "[15,   210] loss: 0.277\n"
     ]
    },
    {
     "name": "stderr",
     "output_type": "stream",
     "text": [
      "100%|█████████████████████████████████████████████████████████████████████████████| 280/280 [00:50<00:00,  5.53batch/s]\n"
     ]
    },
    {
     "name": "stdout",
     "output_type": "stream",
     "text": [
      "[15,   280] loss: 0.309\n"
     ]
    },
    {
     "name": "stderr",
     "output_type": "stream",
     "text": [
      " 25%|███████████████████▊                                                          | 71/280 [00:12<00:35,  5.82batch/s]"
     ]
    },
    {
     "name": "stdout",
     "output_type": "stream",
     "text": [
      "[16,    70] loss: 0.247\n"
     ]
    },
    {
     "name": "stderr",
     "output_type": "stream",
     "text": [
      " 50%|██████████████████████████████████████▊                                      | 141/280 [00:25<00:24,  5.58batch/s]"
     ]
    },
    {
     "name": "stdout",
     "output_type": "stream",
     "text": [
      "[16,   140] loss: 0.240\n"
     ]
    },
    {
     "name": "stderr",
     "output_type": "stream",
     "text": [
      " 75%|██████████████████████████████████████████████████████████                   | 211/280 [00:38<00:11,  5.77batch/s]"
     ]
    },
    {
     "name": "stdout",
     "output_type": "stream",
     "text": [
      "[16,   210] loss: 0.229\n"
     ]
    },
    {
     "name": "stderr",
     "output_type": "stream",
     "text": [
      "100%|█████████████████████████████████████████████████████████████████████████████| 280/280 [00:50<00:00,  5.59batch/s]\n"
     ]
    },
    {
     "name": "stdout",
     "output_type": "stream",
     "text": [
      "[16,   280] loss: 0.225\n"
     ]
    },
    {
     "name": "stderr",
     "output_type": "stream",
     "text": [
      " 25%|███████████████████▌                                                          | 70/280 [00:12<00:42,  4.95batch/s]"
     ]
    },
    {
     "name": "stdout",
     "output_type": "stream",
     "text": [
      "[17,    70] loss: 0.237\n"
     ]
    },
    {
     "name": "stderr",
     "output_type": "stream",
     "text": [
      " 50%|██████████████████████████████████████▌                                      | 140/280 [00:24<00:24,  5.74batch/s]"
     ]
    },
    {
     "name": "stdout",
     "output_type": "stream",
     "text": [
      "[17,   140] loss: 0.221\n"
     ]
    },
    {
     "name": "stderr",
     "output_type": "stream",
     "text": [
      " 75%|██████████████████████████████████████████████████████████                   | 211/280 [00:37<00:12,  5.73batch/s]"
     ]
    },
    {
     "name": "stdout",
     "output_type": "stream",
     "text": [
      "[17,   210] loss: 0.208\n"
     ]
    },
    {
     "name": "stderr",
     "output_type": "stream",
     "text": [
      "100%|█████████████████████████████████████████████████████████████████████████████| 280/280 [00:49<00:00,  5.65batch/s]\n"
     ]
    },
    {
     "name": "stdout",
     "output_type": "stream",
     "text": [
      "[17,   280] loss: 0.218\n"
     ]
    },
    {
     "name": "stderr",
     "output_type": "stream",
     "text": [
      " 25%|███████████████████▊                                                          | 71/280 [00:12<00:36,  5.68batch/s]"
     ]
    },
    {
     "name": "stdout",
     "output_type": "stream",
     "text": [
      "[18,    70] loss: 0.219\n"
     ]
    },
    {
     "name": "stderr",
     "output_type": "stream",
     "text": [
      " 50%|██████████████████████████████████████▊                                      | 141/280 [00:24<00:24,  5.74batch/s]"
     ]
    },
    {
     "name": "stdout",
     "output_type": "stream",
     "text": [
      "[18,   140] loss: 0.202\n"
     ]
    },
    {
     "name": "stderr",
     "output_type": "stream",
     "text": [
      " 75%|██████████████████████████████████████████████████████████                   | 211/280 [00:38<00:13,  5.07batch/s]"
     ]
    },
    {
     "name": "stdout",
     "output_type": "stream",
     "text": [
      "[18,   210] loss: 0.205\n"
     ]
    },
    {
     "name": "stderr",
     "output_type": "stream",
     "text": [
      "100%|█████████████████████████████████████████████████████████████████████████████| 280/280 [00:51<00:00,  5.43batch/s]\n"
     ]
    },
    {
     "name": "stdout",
     "output_type": "stream",
     "text": [
      "[18,   280] loss: 0.210\n"
     ]
    },
    {
     "name": "stderr",
     "output_type": "stream",
     "text": [
      " 25%|███████████████████▌                                                          | 70/280 [00:12<00:46,  4.54batch/s]"
     ]
    },
    {
     "name": "stdout",
     "output_type": "stream",
     "text": [
      "[19,    70] loss: 0.210\n"
     ]
    },
    {
     "name": "stderr",
     "output_type": "stream",
     "text": [
      " 50%|██████████████████████████████████████▊                                      | 141/280 [00:25<00:23,  5.85batch/s]"
     ]
    },
    {
     "name": "stdout",
     "output_type": "stream",
     "text": [
      "[19,   140] loss: 0.216\n"
     ]
    },
    {
     "name": "stderr",
     "output_type": "stream",
     "text": [
      " 75%|██████████████████████████████████████████████████████████                   | 211/280 [00:37<00:12,  5.69batch/s]"
     ]
    },
    {
     "name": "stdout",
     "output_type": "stream",
     "text": [
      "[19,   210] loss: 0.187\n"
     ]
    },
    {
     "name": "stderr",
     "output_type": "stream",
     "text": [
      "100%|█████████████████████████████████████████████████████████████████████████████| 280/280 [00:49<00:00,  5.68batch/s]\n"
     ]
    },
    {
     "name": "stdout",
     "output_type": "stream",
     "text": [
      "[19,   280] loss: 0.219\n"
     ]
    },
    {
     "name": "stderr",
     "output_type": "stream",
     "text": [
      " 25%|███████████████████▌                                                          | 70/280 [00:12<00:47,  4.39batch/s]"
     ]
    },
    {
     "name": "stdout",
     "output_type": "stream",
     "text": [
      "[20,    70] loss: 0.233\n"
     ]
    },
    {
     "name": "stderr",
     "output_type": "stream",
     "text": [
      " 50%|██████████████████████████████████████▊                                      | 141/280 [00:25<00:23,  5.89batch/s]"
     ]
    },
    {
     "name": "stdout",
     "output_type": "stream",
     "text": [
      "[20,   140] loss: 0.202\n"
     ]
    },
    {
     "name": "stderr",
     "output_type": "stream",
     "text": [
      " 75%|██████████████████████████████████████████████████████████                   | 211/280 [00:37<00:11,  5.84batch/s]"
     ]
    },
    {
     "name": "stdout",
     "output_type": "stream",
     "text": [
      "[20,   210] loss: 0.211\n"
     ]
    },
    {
     "name": "stderr",
     "output_type": "stream",
     "text": [
      "100%|█████████████████████████████████████████████████████████████████████████████| 280/280 [00:48<00:00,  5.74batch/s]"
     ]
    },
    {
     "name": "stdout",
     "output_type": "stream",
     "text": [
      "[20,   280] loss: 0.208\n"
     ]
    },
    {
     "name": "stderr",
     "output_type": "stream",
     "text": [
      "\n"
     ]
    }
   ],
   "source": [
    "resnet_adam, train_loss_adam = train_model(model)"
   ]
  },
  {
   "cell_type": "code",
   "execution_count": 23,
   "id": "05544593",
   "metadata": {},
   "outputs": [
    {
     "name": "stdout",
     "output_type": "stream",
     "text": [
      "Accuracy of the network on the test images: 83 %\n"
     ]
    }
   ],
   "source": [
    "test_model(resnet_adam)"
   ]
  },
  {
   "cell_type": "code",
   "execution_count": null,
   "id": "a18d15e8",
   "metadata": {
    "id": "a18d15e8",
    "outputId": "b476ec6a-9b56-47e8-d7cf-505214c88402",
    "pycharm": {
     "name": "#%%\n"
    }
   },
   "outputs": [],
   "source": []
  },
  {
   "cell_type": "code",
   "execution_count": null,
   "id": "925169cb",
   "metadata": {
    "id": "925169cb",
    "outputId": "b33a4be9-0b92-4116-90be-09e6d1bfb4c1",
    "pycharm": {
     "name": "#%%\n"
    }
   },
   "outputs": [],
   "source": []
  },
  {
   "cell_type": "code",
   "execution_count": 24,
   "id": "64f74ddd",
   "metadata": {
    "id": "64f74ddd",
    "outputId": "4b74f373-022f-493b-8da5-7ca26f53cd41",
    "pycharm": {
     "name": "#%%\n"
    }
   },
   "outputs": [
    {
     "data": {
      "image/png": "[encoded data removed]",
      "text/plain": [
       "<Figure size 1000x600 with 1 Axes>"
      ]
     },
     "metadata": {},
     "output_type": "display_data"
    }
   ],
   "source": [
    "# Train Loss v Test Accuracy Plot_ResNet50_Adam\n",
    "plt.figure(figsize=(10,6))\n",
    "plt.plot(train_loss_adam, color='r')\n",
    "plt.xlabel('Epochs')\n",
    "plt.ylabel('Training Loss')\n",
    "plt.title('Train Loss ResNet 50_Adam Optimizer')\n",
    "plt.show()"
   ]
  },
  {
   "cell_type": "markdown",
   "id": "6fd90e07",
   "metadata": {
    "id": "6fd90e07",
    "pycharm": {
     "name": "#%% md\n"
    }
   },
   "source": [
    "#### Saving Model"
   ]
  },
  {
   "cell_type": "code",
   "execution_count": 56,
   "id": "a4ef9b95",
   "metadata": {
    "id": "a4ef9b95",
    "pycharm": {
     "name": "#%%\n"
    }
   },
   "outputs": [],
   "source": [
    "# Saving ResNet50 model with Adam optimizer\n",
    "torch.save(model.state_dict(), os.path.join(owd, 'ResNet50_Adam.pth'))"
   ]
  },
  {
   "cell_type": "markdown",
   "id": "e13556a9",
   "metadata": {
    "id": "e13556a9",
    "pycharm": {
     "name": "#%% md\n"
    }
   },
   "source": [
    "#### Loading Model"
   ]
  },
  {
   "cell_type": "code",
   "execution_count": null,
   "id": "b7ad099f",
   "metadata": {
    "id": "b7ad099f",
    "pycharm": {
     "name": "#%%\n"
    }
   },
   "outputs": [],
   "source": [
    "# model = TheModelClass(*args, **kwargs)\n",
    "# model.load_state_dict(torch.load(PATH))\n",
    "# model.to(device)\n",
    "# Make sure to call input = input.to(device) on any input tensors that you feed to the model"
   ]
  },
  {
   "cell_type": "code",
   "execution_count": null,
   "id": "7b078c4c",
   "metadata": {
    "id": "7b078c4c",
    "pycharm": {
     "name": "#%%\n"
    }
   },
   "outputs": [],
   "source": []
  },
  {
   "cell_type": "markdown",
   "id": "e10071c1",
   "metadata": {
    "id": "e10071c1",
    "pycharm": {
     "name": "#%% md\n"
    }
   },
   "source": [
    "## ResNet 50 -> SGD with Momentum Optimizer"
   ]
  },
  {
   "cell_type": "code",
   "execution_count": 9,
   "id": "4fdb93b6",
   "metadata": {
    "id": "4fdb93b6",
    "pycharm": {
     "name": "#%%\n"
    }
   },
   "outputs": [],
   "source": [
    "def train_model(model):\n",
    "    train_loss     = []\n",
    "    for epoch in range(num_epochs):\n",
    "        running_loss = 0.0\n",
    "        with tqdm(train_loader, unit='batch') as te:\n",
    "            for i, (image, label) in enumerate(te):\n",
    "                image = image.to(device)\n",
    "                label = label.to(device)\n",
    "\n",
    "                pred = model(image)\n",
    "\n",
    "                loss = loss_fn(pred, label)\n",
    "\n",
    "                # train_prob = train_prob.cpu() # Assigining train_probabilites to cpu to prevent maxing out of CUDA memory\n",
    "                optimizer.zero_grad()\n",
    "                loss.backward()\n",
    "                optimizer.step()\n",
    "                running_loss += loss.item()\n",
    "                \n",
    "                if i % 70 == 69:    # print and store every 70 mini-batches: 4 times per epoch\n",
    "                    print(f'[{epoch + 1}, {i + 1:5d}] loss: {running_loss / 70:.3f}')\n",
    "                    train_loss.append(running_loss / 70)\n",
    "                    \n",
    "                    running_loss = 0.0\n",
    "                    \n",
    "    return model, train_loss"
   ]
  },
  {
   "cell_type": "code",
   "execution_count": 10,
   "id": "e062b409",
   "metadata": {},
   "outputs": [],
   "source": [
    "def test_model(model):\n",
    "    with torch.no_grad():\n",
    "        correct = 0\n",
    "        total = 0\n",
    "        for test_image, test_label in test_loader:\n",
    "            test_image = test_image.to(device)\n",
    "            test_label = test_label.to(device)\n",
    "            test_prob  = model(test_image)\n",
    "            # test_prob  = test_prob.cpu() \n",
    "\n",
    "            test_pred  = torch.max(test_prob, 1).indices\n",
    "    #         print(test_label, test_pred)\n",
    "    #         test_acc   += int(torch.sum(test_pred == test_label))\n",
    "            total += test_label.size(0)\n",
    "            correct += (test_pred == test_label).sum().item()\n",
    "\n",
    "        #ep_test_acc = test_acc / len(test_loader)\n",
    "\n",
    "        print(f'Accuracy of the network on the test images: {100 * correct // total} %')"
   ]
  },
  {
   "cell_type": "code",
   "execution_count": 13,
   "id": "f6cf5afc",
   "metadata": {
    "id": "f6cf5afc",
    "pycharm": {
     "name": "#%%\n"
    }
   },
   "outputs": [],
   "source": [
    "model = resnet50(pretrained = True)\n",
    "model.fc = nn.Linear(in_features=2048, out_features=2)\n",
    "model = model.to(device)\n",
    "\n",
    "# Initializing Optimizer\n",
    "optimizer = SGD(model.parameters(), momentum = 0.5, lr=learning_rate, weight_decay=0.0001)\n",
    "\n",
    "# Initializing Loss Function\n",
    "loss_fn = nn.CrossEntropyLoss()"
   ]
  },
  {
   "cell_type": "code",
   "execution_count": 14,
   "id": "bb52ee5f",
   "metadata": {
    "id": "bb52ee5f",
    "outputId": "456fa141-6940-46cc-b5b8-51b54265eeb1",
    "pycharm": {
     "name": "#%%\n"
    },
    "scrolled": true
   },
   "outputs": [
    {
     "name": "stderr",
     "output_type": "stream",
     "text": [
      " 25%|███████████████████▌                                                          | 70/280 [00:21<00:54,  3.84batch/s]"
     ]
    },
    {
     "name": "stdout",
     "output_type": "stream",
     "text": [
      "[1,    70] loss: 0.179\n"
     ]
    },
    {
     "name": "stderr",
     "output_type": "stream",
     "text": [
      " 50%|██████████████████████████████████████▌                                      | 140/280 [00:39<00:35,  3.91batch/s]"
     ]
    },
    {
     "name": "stdout",
     "output_type": "stream",
     "text": [
      "[1,   140] loss: 0.062\n"
     ]
    },
    {
     "name": "stderr",
     "output_type": "stream",
     "text": [
      " 75%|█████████████████████████████████████████████████████████▊                   | 210/280 [00:56<00:17,  4.05batch/s]"
     ]
    },
    {
     "name": "stdout",
     "output_type": "stream",
     "text": [
      "[1,   210] loss: 0.043\n"
     ]
    },
    {
     "name": "stderr",
     "output_type": "stream",
     "text": [
      "100%|█████████████████████████████████████████████████████████████████████████████| 280/280 [01:14<00:00,  3.76batch/s]\n"
     ]
    },
    {
     "name": "stdout",
     "output_type": "stream",
     "text": [
      "[1,   280] loss: 0.038\n"
     ]
    },
    {
     "name": "stderr",
     "output_type": "stream",
     "text": [
      " 25%|███████████████████▌                                                          | 70/280 [00:17<00:52,  3.99batch/s]"
     ]
    },
    {
     "name": "stdout",
     "output_type": "stream",
     "text": [
      "[2,    70] loss: 0.107\n"
     ]
    },
    {
     "name": "stderr",
     "output_type": "stream",
     "text": [
      " 50%|██████████████████████████████████████▌                                      | 140/280 [00:34<00:34,  4.10batch/s]"
     ]
    },
    {
     "name": "stdout",
     "output_type": "stream",
     "text": [
      "[2,   140] loss: 0.035\n"
     ]
    },
    {
     "name": "stderr",
     "output_type": "stream",
     "text": [
      " 75%|█████████████████████████████████████████████████████████▊                   | 210/280 [00:51<00:18,  3.88batch/s]"
     ]
    },
    {
     "name": "stdout",
     "output_type": "stream",
     "text": [
      "[2,   210] loss: 0.036\n"
     ]
    },
    {
     "name": "stderr",
     "output_type": "stream",
     "text": [
      "100%|█████████████████████████████████████████████████████████████████████████████| 280/280 [01:08<00:00,  4.09batch/s]\n"
     ]
    },
    {
     "name": "stdout",
     "output_type": "stream",
     "text": [
      "[2,   280] loss: 0.044\n"
     ]
    },
    {
     "name": "stderr",
     "output_type": "stream",
     "text": [
      " 25%|███████████████████▊                                                          | 71/280 [00:17<00:47,  4.41batch/s]"
     ]
    },
    {
     "name": "stdout",
     "output_type": "stream",
     "text": [
      "[3,    70] loss: 0.107\n"
     ]
    },
    {
     "name": "stderr",
     "output_type": "stream",
     "text": [
      " 50%|██████████████████████████████████████▌                                      | 140/280 [00:34<00:34,  4.04batch/s]"
     ]
    },
    {
     "name": "stdout",
     "output_type": "stream",
     "text": [
      "[3,   140] loss: 0.040\n"
     ]
    },
    {
     "name": "stderr",
     "output_type": "stream",
     "text": [
      " 75%|█████████████████████████████████████████████████████████▊                   | 210/280 [00:51<00:16,  4.30batch/s]"
     ]
    },
    {
     "name": "stdout",
     "output_type": "stream",
     "text": [
      "[3,   210] loss: 0.026\n"
     ]
    },
    {
     "name": "stderr",
     "output_type": "stream",
     "text": [
      "100%|█████████████████████████████████████████████████████████████████████████████| 280/280 [01:08<00:00,  4.11batch/s]\n"
     ]
    },
    {
     "name": "stdout",
     "output_type": "stream",
     "text": [
      "[3,   280] loss: 0.035\n"
     ]
    },
    {
     "name": "stderr",
     "output_type": "stream",
     "text": [
      " 25%|███████████████████▌                                                          | 70/280 [00:17<00:46,  4.49batch/s]"
     ]
    },
    {
     "name": "stdout",
     "output_type": "stream",
     "text": [
      "[4,    70] loss: 0.051\n"
     ]
    },
    {
     "name": "stderr",
     "output_type": "stream",
     "text": [
      " 50%|██████████████████████████████████████▌                                      | 140/280 [00:34<00:33,  4.12batch/s]"
     ]
    },
    {
     "name": "stdout",
     "output_type": "stream",
     "text": [
      "[4,   140] loss: 0.023\n"
     ]
    },
    {
     "name": "stderr",
     "output_type": "stream",
     "text": [
      " 75%|█████████████████████████████████████████████████████████▊                   | 210/280 [00:50<00:18,  3.88batch/s]"
     ]
    },
    {
     "name": "stdout",
     "output_type": "stream",
     "text": [
      "[4,   210] loss: 0.021\n"
     ]
    },
    {
     "name": "stderr",
     "output_type": "stream",
     "text": [
      "100%|█████████████████████████████████████████████████████████████████████████████| 280/280 [01:07<00:00,  4.16batch/s]\n"
     ]
    },
    {
     "name": "stdout",
     "output_type": "stream",
     "text": [
      "[4,   280] loss: 0.044\n"
     ]
    },
    {
     "name": "stderr",
     "output_type": "stream",
     "text": [
      " 25%|███████████████████▊                                                          | 71/280 [00:17<00:50,  4.15batch/s]"
     ]
    },
    {
     "name": "stdout",
     "output_type": "stream",
     "text": [
      "[5,    70] loss: 0.143\n"
     ]
    },
    {
     "name": "stderr",
     "output_type": "stream",
     "text": [
      " 50%|██████████████████████████████████████▌                                      | 140/280 [00:35<00:35,  3.93batch/s]"
     ]
    },
    {
     "name": "stdout",
     "output_type": "stream",
     "text": [
      "[5,   140] loss: 0.044\n"
     ]
    },
    {
     "name": "stderr",
     "output_type": "stream",
     "text": [
      " 75%|█████████████████████████████████████████████████████████▊                   | 210/280 [00:52<00:17,  3.91batch/s]"
     ]
    },
    {
     "name": "stdout",
     "output_type": "stream",
     "text": [
      "[5,   210] loss: 0.027\n"
     ]
    },
    {
     "name": "stderr",
     "output_type": "stream",
     "text": [
      "100%|█████████████████████████████████████████████████████████████████████████████| 280/280 [01:09<00:00,  4.03batch/s]\n"
     ]
    },
    {
     "name": "stdout",
     "output_type": "stream",
     "text": [
      "[5,   280] loss: 0.031\n"
     ]
    },
    {
     "name": "stderr",
     "output_type": "stream",
     "text": [
      " 25%|███████████████████▌                                                          | 70/280 [00:17<00:51,  4.07batch/s]"
     ]
    },
    {
     "name": "stdout",
     "output_type": "stream",
     "text": [
      "[6,    70] loss: 0.069\n"
     ]
    },
    {
     "name": "stderr",
     "output_type": "stream",
     "text": [
      " 50%|██████████████████████████████████████▌                                      | 140/280 [00:34<00:31,  4.41batch/s]"
     ]
    },
    {
     "name": "stdout",
     "output_type": "stream",
     "text": [
      "[6,   140] loss: 0.025\n"
     ]
    },
    {
     "name": "stderr",
     "output_type": "stream",
     "text": [
      " 75%|█████████████████████████████████████████████████████████▊                   | 210/280 [00:51<00:18,  3.76batch/s]"
     ]
    },
    {
     "name": "stdout",
     "output_type": "stream",
     "text": [
      "[6,   210] loss: 0.015\n"
     ]
    },
    {
     "name": "stderr",
     "output_type": "stream",
     "text": [
      "100%|█████████████████████████████████████████████████████████████████████████████| 280/280 [01:08<00:00,  4.08batch/s]\n"
     ]
    },
    {
     "name": "stdout",
     "output_type": "stream",
     "text": [
      "[6,   280] loss: 0.017\n"
     ]
    },
    {
     "name": "stderr",
     "output_type": "stream",
     "text": [
      " 25%|███████████████████▌                                                          | 70/280 [00:16<00:51,  4.06batch/s]"
     ]
    },
    {
     "name": "stdout",
     "output_type": "stream",
     "text": [
      "[7,    70] loss: 0.012\n"
     ]
    },
    {
     "name": "stderr",
     "output_type": "stream",
     "text": [
      " 50%|██████████████████████████████████████▌                                      | 140/280 [00:34<00:34,  4.05batch/s]"
     ]
    },
    {
     "name": "stdout",
     "output_type": "stream",
     "text": [
      "[7,   140] loss: 0.009\n"
     ]
    },
    {
     "name": "stderr",
     "output_type": "stream",
     "text": [
      " 75%|█████████████████████████████████████████████████████████▊                   | 210/280 [00:51<00:17,  3.91batch/s]"
     ]
    },
    {
     "name": "stdout",
     "output_type": "stream",
     "text": [
      "[7,   210] loss: 0.009\n"
     ]
    },
    {
     "name": "stderr",
     "output_type": "stream",
     "text": [
      "100%|█████████████████████████████████████████████████████████████████████████████| 280/280 [01:08<00:00,  4.09batch/s]\n"
     ]
    },
    {
     "name": "stdout",
     "output_type": "stream",
     "text": [
      "[7,   280] loss: 0.010\n"
     ]
    },
    {
     "name": "stderr",
     "output_type": "stream",
     "text": [
      " 25%|███████████████████▌                                                          | 70/280 [00:17<00:50,  4.19batch/s]"
     ]
    },
    {
     "name": "stdout",
     "output_type": "stream",
     "text": [
      "[8,    70] loss: 0.008\n"
     ]
    },
    {
     "name": "stderr",
     "output_type": "stream",
     "text": [
      " 50%|██████████████████████████████████████▌                                      | 140/280 [00:34<00:35,  3.94batch/s]"
     ]
    },
    {
     "name": "stdout",
     "output_type": "stream",
     "text": [
      "[8,   140] loss: 0.015\n"
     ]
    },
    {
     "name": "stderr",
     "output_type": "stream",
     "text": [
      " 75%|█████████████████████████████████████████████████████████▊                   | 210/280 [00:51<00:16,  4.31batch/s]"
     ]
    },
    {
     "name": "stdout",
     "output_type": "stream",
     "text": [
      "[8,   210] loss: 0.008\n"
     ]
    },
    {
     "name": "stderr",
     "output_type": "stream",
     "text": [
      "100%|█████████████████████████████████████████████████████████████████████████████| 280/280 [01:08<00:00,  4.08batch/s]\n"
     ]
    },
    {
     "name": "stdout",
     "output_type": "stream",
     "text": [
      "[8,   280] loss: 0.011\n"
     ]
    },
    {
     "name": "stderr",
     "output_type": "stream",
     "text": [
      " 25%|███████████████████▌                                                          | 70/280 [00:16<00:47,  4.46batch/s]"
     ]
    },
    {
     "name": "stdout",
     "output_type": "stream",
     "text": [
      "[9,    70] loss: 0.010\n"
     ]
    },
    {
     "name": "stderr",
     "output_type": "stream",
     "text": [
      " 50%|██████████████████████████████████████▌                                      | 140/280 [00:33<00:34,  4.09batch/s]"
     ]
    },
    {
     "name": "stdout",
     "output_type": "stream",
     "text": [
      "[9,   140] loss: 0.011\n"
     ]
    },
    {
     "name": "stderr",
     "output_type": "stream",
     "text": [
      " 75%|██████████████████████████████████████████████████████████                   | 211/280 [00:50<00:14,  4.62batch/s]"
     ]
    },
    {
     "name": "stdout",
     "output_type": "stream",
     "text": [
      "[9,   210] loss: 0.006\n"
     ]
    },
    {
     "name": "stderr",
     "output_type": "stream",
     "text": [
      "100%|█████████████████████████████████████████████████████████████████████████████| 280/280 [01:07<00:00,  4.17batch/s]\n"
     ]
    },
    {
     "name": "stdout",
     "output_type": "stream",
     "text": [
      "[9,   280] loss: 0.053\n"
     ]
    },
    {
     "name": "stderr",
     "output_type": "stream",
     "text": [
      " 25%|███████████████████▌                                                          | 70/280 [00:17<00:53,  3.95batch/s]"
     ]
    },
    {
     "name": "stdout",
     "output_type": "stream",
     "text": [
      "[10,    70] loss: 0.029\n"
     ]
    },
    {
     "name": "stderr",
     "output_type": "stream",
     "text": [
      " 50%|██████████████████████████████████████▌                                      | 140/280 [00:34<00:35,  3.93batch/s]"
     ]
    },
    {
     "name": "stdout",
     "output_type": "stream",
     "text": [
      "[10,   140] loss: 0.012\n"
     ]
    },
    {
     "name": "stderr",
     "output_type": "stream",
     "text": [
      " 75%|█████████████████████████████████████████████████████████▊                   | 210/280 [00:51<00:17,  3.94batch/s]"
     ]
    },
    {
     "name": "stdout",
     "output_type": "stream",
     "text": [
      "[10,   210] loss: 0.012\n"
     ]
    },
    {
     "name": "stderr",
     "output_type": "stream",
     "text": [
      "100%|█████████████████████████████████████████████████████████████████████████████| 280/280 [01:07<00:00,  4.12batch/s]\n"
     ]
    },
    {
     "name": "stdout",
     "output_type": "stream",
     "text": [
      "[10,   280] loss: 0.018\n"
     ]
    },
    {
     "name": "stderr",
     "output_type": "stream",
     "text": [
      " 25%|███████████████████▌                                                          | 70/280 [00:16<00:55,  3.78batch/s]"
     ]
    },
    {
     "name": "stdout",
     "output_type": "stream",
     "text": [
      "[11,    70] loss: 0.016\n"
     ]
    },
    {
     "name": "stderr",
     "output_type": "stream",
     "text": [
      " 50%|██████████████████████████████████████▌                                      | 140/280 [00:34<00:34,  4.05batch/s]"
     ]
    },
    {
     "name": "stdout",
     "output_type": "stream",
     "text": [
      "[11,   140] loss: 0.012\n"
     ]
    },
    {
     "name": "stderr",
     "output_type": "stream",
     "text": [
      " 75%|█████████████████████████████████████████████████████████▊                   | 210/280 [00:51<00:17,  4.01batch/s]"
     ]
    },
    {
     "name": "stdout",
     "output_type": "stream",
     "text": [
      "[11,   210] loss: 0.008\n"
     ]
    },
    {
     "name": "stderr",
     "output_type": "stream",
     "text": [
      "100%|█████████████████████████████████████████████████████████████████████████████| 280/280 [01:08<00:00,  4.09batch/s]\n"
     ]
    },
    {
     "name": "stdout",
     "output_type": "stream",
     "text": [
      "[11,   280] loss: 0.008\n"
     ]
    },
    {
     "name": "stderr",
     "output_type": "stream",
     "text": [
      " 25%|███████████████████▌                                                          | 70/280 [00:16<00:53,  3.91batch/s]"
     ]
    },
    {
     "name": "stdout",
     "output_type": "stream",
     "text": [
      "[12,    70] loss: 0.006\n"
     ]
    },
    {
     "name": "stderr",
     "output_type": "stream",
     "text": [
      " 50%|██████████████████████████████████████▌                                      | 140/280 [00:33<00:35,  3.98batch/s]"
     ]
    },
    {
     "name": "stdout",
     "output_type": "stream",
     "text": [
      "[12,   140] loss: 0.006\n"
     ]
    },
    {
     "name": "stderr",
     "output_type": "stream",
     "text": [
      " 75%|█████████████████████████████████████████████████████████▊                   | 210/280 [00:51<00:17,  3.95batch/s]"
     ]
    },
    {
     "name": "stdout",
     "output_type": "stream",
     "text": [
      "[12,   210] loss: 0.033\n"
     ]
    },
    {
     "name": "stderr",
     "output_type": "stream",
     "text": [
      "100%|█████████████████████████████████████████████████████████████████████████████| 280/280 [01:07<00:00,  4.13batch/s]\n"
     ]
    },
    {
     "name": "stdout",
     "output_type": "stream",
     "text": [
      "[12,   280] loss: 0.029\n"
     ]
    },
    {
     "name": "stderr",
     "output_type": "stream",
     "text": [
      " 25%|███████████████████▊                                                          | 71/280 [00:17<00:46,  4.50batch/s]"
     ]
    },
    {
     "name": "stdout",
     "output_type": "stream",
     "text": [
      "[13,    70] loss: 0.278\n"
     ]
    },
    {
     "name": "stderr",
     "output_type": "stream",
     "text": [
      " 50%|██████████████████████████████████████▌                                      | 140/280 [00:33<00:33,  4.17batch/s]"
     ]
    },
    {
     "name": "stdout",
     "output_type": "stream",
     "text": [
      "[13,   140] loss: 0.083\n"
     ]
    },
    {
     "name": "stderr",
     "output_type": "stream",
     "text": [
      " 75%|██████████████████████████████████████████████████████████                   | 211/280 [00:51<00:14,  4.64batch/s]"
     ]
    },
    {
     "name": "stdout",
     "output_type": "stream",
     "text": [
      "[13,   210] loss: 0.044\n"
     ]
    },
    {
     "name": "stderr",
     "output_type": "stream",
     "text": [
      "100%|█████████████████████████████████████████████████████████████████████████████| 280/280 [01:07<00:00,  4.14batch/s]\n"
     ]
    },
    {
     "name": "stdout",
     "output_type": "stream",
     "text": [
      "[13,   280] loss: 0.069\n"
     ]
    },
    {
     "name": "stderr",
     "output_type": "stream",
     "text": [
      " 25%|███████████████████▌                                                          | 70/280 [00:16<00:52,  3.98batch/s]"
     ]
    },
    {
     "name": "stdout",
     "output_type": "stream",
     "text": [
      "[14,    70] loss: 0.110\n"
     ]
    },
    {
     "name": "stderr",
     "output_type": "stream",
     "text": [
      " 50%|██████████████████████████████████████▌                                      | 140/280 [00:33<00:31,  4.40batch/s]"
     ]
    },
    {
     "name": "stdout",
     "output_type": "stream",
     "text": [
      "[14,   140] loss: 0.026\n"
     ]
    },
    {
     "name": "stderr",
     "output_type": "stream",
     "text": [
      " 75%|█████████████████████████████████████████████████████████▊                   | 210/280 [00:50<00:17,  4.00batch/s]"
     ]
    },
    {
     "name": "stdout",
     "output_type": "stream",
     "text": [
      "[14,   210] loss: 0.025\n"
     ]
    },
    {
     "name": "stderr",
     "output_type": "stream",
     "text": [
      "100%|█████████████████████████████████████████████████████████████████████████████| 280/280 [01:05<00:00,  4.29batch/s]\n"
     ]
    },
    {
     "name": "stdout",
     "output_type": "stream",
     "text": [
      "[14,   280] loss: 0.031\n"
     ]
    },
    {
     "name": "stderr",
     "output_type": "stream",
     "text": [
      " 25%|███████████████████▊                                                          | 71/280 [00:13<00:37,  5.60batch/s]"
     ]
    },
    {
     "name": "stdout",
     "output_type": "stream",
     "text": [
      "[15,    70] loss: 0.021\n"
     ]
    },
    {
     "name": "stderr",
     "output_type": "stream",
     "text": [
      " 50%|██████████████████████████████████████▌                                      | 140/280 [00:26<00:25,  5.51batch/s]"
     ]
    },
    {
     "name": "stdout",
     "output_type": "stream",
     "text": [
      "[15,   140] loss: 0.014\n"
     ]
    },
    {
     "name": "stderr",
     "output_type": "stream",
     "text": [
      " 75%|█████████████████████████████████████████████████████████▊                   | 210/280 [00:39<00:17,  3.93batch/s]"
     ]
    },
    {
     "name": "stdout",
     "output_type": "stream",
     "text": [
      "[15,   210] loss: 0.010\n"
     ]
    },
    {
     "name": "stderr",
     "output_type": "stream",
     "text": [
      "100%|█████████████████████████████████████████████████████████████████████████████| 280/280 [00:54<00:00,  5.14batch/s]\n"
     ]
    },
    {
     "name": "stdout",
     "output_type": "stream",
     "text": [
      "[15,   280] loss: 0.016\n"
     ]
    },
    {
     "name": "stderr",
     "output_type": "stream",
     "text": [
      " 25%|███████████████████▌                                                          | 70/280 [00:13<00:40,  5.15batch/s]"
     ]
    },
    {
     "name": "stdout",
     "output_type": "stream",
     "text": [
      "[16,    70] loss: 0.059\n"
     ]
    },
    {
     "name": "stderr",
     "output_type": "stream",
     "text": [
      " 50%|██████████████████████████████████████▌                                      | 140/280 [00:26<00:25,  5.50batch/s]"
     ]
    },
    {
     "name": "stdout",
     "output_type": "stream",
     "text": [
      "[16,   140] loss: 0.013\n"
     ]
    },
    {
     "name": "stderr",
     "output_type": "stream",
     "text": [
      " 75%|██████████████████████████████████████████████████████████                   | 211/280 [00:40<00:15,  4.48batch/s]"
     ]
    },
    {
     "name": "stdout",
     "output_type": "stream",
     "text": [
      "[16,   210] loss: 0.011\n"
     ]
    },
    {
     "name": "stderr",
     "output_type": "stream",
     "text": [
      "100%|█████████████████████████████████████████████████████████████████████████████| 280/280 [00:52<00:00,  5.33batch/s]\n"
     ]
    },
    {
     "name": "stdout",
     "output_type": "stream",
     "text": [
      "[16,   280] loss: 0.073\n"
     ]
    },
    {
     "name": "stderr",
     "output_type": "stream",
     "text": [
      " 25%|███████████████████▊                                                          | 71/280 [00:12<00:36,  5.79batch/s]"
     ]
    },
    {
     "name": "stdout",
     "output_type": "stream",
     "text": [
      "[17,    70] loss: 0.027\n"
     ]
    },
    {
     "name": "stderr",
     "output_type": "stream",
     "text": [
      " 50%|██████████████████████████████████████▊                                      | 141/280 [00:24<00:23,  5.79batch/s]"
     ]
    },
    {
     "name": "stdout",
     "output_type": "stream",
     "text": [
      "[17,   140] loss: 0.011\n"
     ]
    },
    {
     "name": "stderr",
     "output_type": "stream",
     "text": [
      " 75%|██████████████████████████████████████████████████████████                   | 211/280 [00:36<00:11,  5.75batch/s]"
     ]
    },
    {
     "name": "stdout",
     "output_type": "stream",
     "text": [
      "[17,   210] loss: 0.007\n"
     ]
    },
    {
     "name": "stderr",
     "output_type": "stream",
     "text": [
      "100%|█████████████████████████████████████████████████████████████████████████████| 280/280 [00:48<00:00,  5.72batch/s]\n"
     ]
    },
    {
     "name": "stdout",
     "output_type": "stream",
     "text": [
      "[17,   280] loss: 0.011\n"
     ]
    },
    {
     "name": "stderr",
     "output_type": "stream",
     "text": [
      " 25%|███████████████████▊                                                          | 71/280 [00:12<00:36,  5.77batch/s]"
     ]
    },
    {
     "name": "stdout",
     "output_type": "stream",
     "text": [
      "[18,    70] loss: 0.011\n"
     ]
    },
    {
     "name": "stderr",
     "output_type": "stream",
     "text": [
      " 50%|██████████████████████████████████████▌                                      | 140/280 [00:24<00:29,  4.67batch/s]"
     ]
    },
    {
     "name": "stdout",
     "output_type": "stream",
     "text": [
      "[18,   140] loss: 0.012\n"
     ]
    },
    {
     "name": "stderr",
     "output_type": "stream",
     "text": [
      " 75%|█████████████████████████████████████████████████████████▊                   | 210/280 [00:41<00:18,  3.89batch/s]"
     ]
    },
    {
     "name": "stdout",
     "output_type": "stream",
     "text": [
      "[18,   210] loss: 0.011\n"
     ]
    },
    {
     "name": "stderr",
     "output_type": "stream",
     "text": [
      "100%|█████████████████████████████████████████████████████████████████████████████| 280/280 [00:58<00:00,  4.76batch/s]\n"
     ]
    },
    {
     "name": "stdout",
     "output_type": "stream",
     "text": [
      "[18,   280] loss: 0.093\n"
     ]
    },
    {
     "name": "stderr",
     "output_type": "stream",
     "text": [
      " 25%|███████████████████▌                                                          | 70/280 [00:17<00:53,  3.91batch/s]"
     ]
    },
    {
     "name": "stdout",
     "output_type": "stream",
     "text": [
      "[19,    70] loss: 0.065\n"
     ]
    },
    {
     "name": "stderr",
     "output_type": "stream",
     "text": [
      " 50%|██████████████████████████████████████▌                                      | 140/280 [00:33<00:33,  4.16batch/s]"
     ]
    },
    {
     "name": "stdout",
     "output_type": "stream",
     "text": [
      "[19,   140] loss: 0.010\n"
     ]
    },
    {
     "name": "stderr",
     "output_type": "stream",
     "text": [
      " 75%|█████████████████████████████████████████████████████████▊                   | 210/280 [00:51<00:17,  3.96batch/s]"
     ]
    },
    {
     "name": "stdout",
     "output_type": "stream",
     "text": [
      "[19,   210] loss: 0.011\n"
     ]
    },
    {
     "name": "stderr",
     "output_type": "stream",
     "text": [
      "100%|█████████████████████████████████████████████████████████████████████████████| 280/280 [01:08<00:00,  4.11batch/s]\n"
     ]
    },
    {
     "name": "stdout",
     "output_type": "stream",
     "text": [
      "[19,   280] loss: 0.012\n"
     ]
    },
    {
     "name": "stderr",
     "output_type": "stream",
     "text": [
      " 25%|███████████████████▌                                                          | 70/280 [00:17<00:53,  3.94batch/s]"
     ]
    },
    {
     "name": "stdout",
     "output_type": "stream",
     "text": [
      "[20,    70] loss: 0.008\n"
     ]
    },
    {
     "name": "stderr",
     "output_type": "stream",
     "text": [
      " 50%|██████████████████████████████████████▌                                      | 140/280 [00:33<00:33,  4.14batch/s]"
     ]
    },
    {
     "name": "stdout",
     "output_type": "stream",
     "text": [
      "[20,   140] loss: 0.005\n"
     ]
    },
    {
     "name": "stderr",
     "output_type": "stream",
     "text": [
      " 75%|█████████████████████████████████████████████████████████▊                   | 210/280 [00:51<00:17,  3.93batch/s]"
     ]
    },
    {
     "name": "stdout",
     "output_type": "stream",
     "text": [
      "[20,   210] loss: 0.003\n"
     ]
    },
    {
     "name": "stderr",
     "output_type": "stream",
     "text": [
      "100%|█████████████████████████████████████████████████████████████████████████████| 280/280 [01:07<00:00,  4.12batch/s]"
     ]
    },
    {
     "name": "stdout",
     "output_type": "stream",
     "text": [
      "[20,   280] loss: 0.010\n"
     ]
    },
    {
     "name": "stderr",
     "output_type": "stream",
     "text": [
      "\n"
     ]
    }
   ],
   "source": [
    "resnet_sgd, train_loss_sgd = train_model(model)"
   ]
  },
  {
   "cell_type": "code",
   "execution_count": 25,
   "id": "10d23fab",
   "metadata": {
    "id": "10d23fab",
    "outputId": "c33867b7-1f00-4eb9-a228-4682b5fb9d5f",
    "pycharm": {
     "name": "#%%\n"
    }
   },
   "outputs": [
    {
     "name": "stdout",
     "output_type": "stream",
     "text": [
      "Accuracy of the network on the test images: 96 %\n"
     ]
    }
   ],
   "source": [
    "test_model(resnet_sgd)"
   ]
  },
  {
   "cell_type": "code",
   "execution_count": null,
   "id": "3e6d1da6",
   "metadata": {
    "id": "3e6d1da6",
    "outputId": "9f465c27-ed00-41a2-f9e6-4a019e48a031",
    "pycharm": {
     "name": "#%%\n"
    }
   },
   "outputs": [],
   "source": []
  },
  {
   "cell_type": "code",
   "execution_count": 29,
   "id": "c6068189",
   "metadata": {
    "id": "c6068189",
    "outputId": "7fedfd83-ab47-4468-c979-1003b4a3cb34",
    "pycharm": {
     "name": "#%%\n"
    }
   },
   "outputs": [
    {
     "data": {
      "image/png": "[encoded data removed]",
      "text/plain": [
       "<Figure size 800x500 with 1 Axes>"
      ]
     },
     "metadata": {},
     "output_type": "display_data"
    }
   ],
   "source": [
    "# Train Loss v Test Accuracy Plot_SGD with Momentum\n",
    "plt.figure(figsize=(8,5))\n",
    "plt.plot(train_loss_sgd, color='r')\n",
    "plt.xlabel('Epochs')\n",
    "plt.ylabel('training loss')\n",
    "plt.title('Train Loss ResNet 50_SGD Optimizer with Momentum')\n",
    "plt.show()"
   ]
  },
  {
   "cell_type": "code",
   "execution_count": 70,
   "id": "87fe2abd",
   "metadata": {
    "id": "87fe2abd",
    "pycharm": {
     "name": "#%%\n"
    }
   },
   "outputs": [],
   "source": [
    "# Saving ResNet50 model -> SGD Optimizer with momentum\n",
    "torch.save(resnet_sgd.state_dict(), os.path.join(owd, 'ResNet50_SGD_Momentum.pth'))"
   ]
  },
  {
   "cell_type": "markdown",
   "id": "1f2f7b81",
   "metadata": {
    "id": "1f2f7b81",
    "pycharm": {
     "name": "#%% md\n"
    }
   },
   "source": [
    "## ResNet 50 -> RMSProp Optimizer"
   ]
  },
  {
   "cell_type": "code",
   "execution_count": 32,
   "id": "9f87af41",
   "metadata": {
    "id": "9f87af41",
    "pycharm": {
     "name": "#%%\n"
    }
   },
   "outputs": [],
   "source": [
    "model_rms = resnet50(pretrained = True)\n",
    "model_rms.fc = nn.Linear(in_features=2048, out_features=2)\n",
    "model_rms = model_rms.to(device)\n",
    "\n",
    "# Initializing Optimizer\n",
    "optimizer = RMSprop(model_rms.parameters(), lr=0.01)\n",
    "\n",
    "# Initializing Loss Function\n",
    "loss_fn = nn.CrossEntropyLoss()"
   ]
  },
  {
   "cell_type": "code",
   "execution_count": 33,
   "id": "f07fb617",
   "metadata": {
    "id": "f07fb617",
    "outputId": "5442568f-586d-4339-a946-c64984acfc00",
    "pycharm": {
     "name": "#%%\n"
    },
    "scrolled": true
   },
   "outputs": [
    {
     "name": "stderr",
     "output_type": "stream",
     "text": [
      " 25%|███████████████████▌                                                          | 70/280 [00:16<00:51,  4.05batch/s]"
     ]
    },
    {
     "name": "stdout",
     "output_type": "stream",
     "text": [
      "[1,    70] loss: 1.912\n"
     ]
    },
    {
     "name": "stderr",
     "output_type": "stream",
     "text": [
      " 50%|██████████████████████████████████████▌                                      | 140/280 [00:34<00:33,  4.18batch/s]"
     ]
    },
    {
     "name": "stdout",
     "output_type": "stream",
     "text": [
      "[1,   140] loss: 0.668\n"
     ]
    },
    {
     "name": "stderr",
     "output_type": "stream",
     "text": [
      " 75%|█████████████████████████████████████████████████████████▊                   | 210/280 [00:51<00:17,  4.02batch/s]"
     ]
    },
    {
     "name": "stdout",
     "output_type": "stream",
     "text": [
      "[1,   210] loss: 0.630\n"
     ]
    },
    {
     "name": "stderr",
     "output_type": "stream",
     "text": [
      "100%|█████████████████████████████████████████████████████████████████████████████| 280/280 [01:08<00:00,  4.12batch/s]\n"
     ]
    },
    {
     "name": "stdout",
     "output_type": "stream",
     "text": [
      "[1,   280] loss: 0.603\n"
     ]
    },
    {
     "name": "stderr",
     "output_type": "stream",
     "text": [
      " 25%|███████████████████▌                                                          | 70/280 [00:16<00:51,  4.10batch/s]"
     ]
    },
    {
     "name": "stdout",
     "output_type": "stream",
     "text": [
      "[2,    70] loss: 0.728\n"
     ]
    },
    {
     "name": "stderr",
     "output_type": "stream",
     "text": [
      " 50%|██████████████████████████████████████▊                                      | 141/280 [00:34<00:32,  4.31batch/s]"
     ]
    },
    {
     "name": "stdout",
     "output_type": "stream",
     "text": [
      "[2,   140] loss: 0.634\n"
     ]
    },
    {
     "name": "stderr",
     "output_type": "stream",
     "text": [
      " 75%|█████████████████████████████████████████████████████████▊                   | 210/280 [00:51<00:18,  3.85batch/s]"
     ]
    },
    {
     "name": "stdout",
     "output_type": "stream",
     "text": [
      "[2,   210] loss: 0.566\n"
     ]
    },
    {
     "name": "stderr",
     "output_type": "stream",
     "text": [
      "100%|█████████████████████████████████████████████████████████████████████████████| 280/280 [01:08<00:00,  4.09batch/s]\n"
     ]
    },
    {
     "name": "stdout",
     "output_type": "stream",
     "text": [
      "[2,   280] loss: 0.607\n"
     ]
    },
    {
     "name": "stderr",
     "output_type": "stream",
     "text": [
      " 25%|███████████████████▊                                                          | 71/280 [00:17<00:48,  4.35batch/s]"
     ]
    },
    {
     "name": "stdout",
     "output_type": "stream",
     "text": [
      "[3,    70] loss: 0.662\n"
     ]
    },
    {
     "name": "stderr",
     "output_type": "stream",
     "text": [
      " 50%|██████████████████████████████████████▌                                      | 140/280 [00:34<00:34,  4.10batch/s]"
     ]
    },
    {
     "name": "stdout",
     "output_type": "stream",
     "text": [
      "[3,   140] loss: 0.529\n"
     ]
    },
    {
     "name": "stderr",
     "output_type": "stream",
     "text": [
      " 75%|██████████████████████████████████████████████████████████                   | 211/280 [00:51<00:16,  4.12batch/s]"
     ]
    },
    {
     "name": "stdout",
     "output_type": "stream",
     "text": [
      "[3,   210] loss: 0.519\n"
     ]
    },
    {
     "name": "stderr",
     "output_type": "stream",
     "text": [
      "100%|█████████████████████████████████████████████████████████████████████████████| 280/280 [01:08<00:00,  4.08batch/s]\n"
     ]
    },
    {
     "name": "stdout",
     "output_type": "stream",
     "text": [
      "[3,   280] loss: 0.509\n"
     ]
    },
    {
     "name": "stderr",
     "output_type": "stream",
     "text": [
      " 25%|███████████████████▌                                                          | 70/280 [00:17<00:46,  4.54batch/s]"
     ]
    },
    {
     "name": "stdout",
     "output_type": "stream",
     "text": [
      "[4,    70] loss: 0.494\n"
     ]
    },
    {
     "name": "stderr",
     "output_type": "stream",
     "text": [
      " 50%|██████████████████████████████████████▌                                      | 140/280 [00:34<00:35,  3.92batch/s]"
     ]
    },
    {
     "name": "stdout",
     "output_type": "stream",
     "text": [
      "[4,   140] loss: 0.481\n"
     ]
    },
    {
     "name": "stderr",
     "output_type": "stream",
     "text": [
      " 75%|█████████████████████████████████████████████████████████▊                   | 210/280 [00:51<00:15,  4.40batch/s]"
     ]
    },
    {
     "name": "stdout",
     "output_type": "stream",
     "text": [
      "[4,   210] loss: 0.464\n"
     ]
    },
    {
     "name": "stderr",
     "output_type": "stream",
     "text": [
      "100%|█████████████████████████████████████████████████████████████████████████████| 280/280 [01:08<00:00,  4.11batch/s]\n"
     ]
    },
    {
     "name": "stdout",
     "output_type": "stream",
     "text": [
      "[4,   280] loss: 0.457\n"
     ]
    },
    {
     "name": "stderr",
     "output_type": "stream",
     "text": [
      " 25%|███████████████████▊                                                          | 71/280 [00:16<00:46,  4.51batch/s]"
     ]
    },
    {
     "name": "stdout",
     "output_type": "stream",
     "text": [
      "[5,    70] loss: 0.560\n"
     ]
    },
    {
     "name": "stderr",
     "output_type": "stream",
     "text": [
      " 50%|██████████████████████████████████████▌                                      | 140/280 [00:33<00:34,  4.09batch/s]"
     ]
    },
    {
     "name": "stdout",
     "output_type": "stream",
     "text": [
      "[5,   140] loss: 0.470\n"
     ]
    },
    {
     "name": "stderr",
     "output_type": "stream",
     "text": [
      " 75%|█████████████████████████████████████████████████████████▊                   | 210/280 [00:51<00:18,  3.84batch/s]"
     ]
    },
    {
     "name": "stdout",
     "output_type": "stream",
     "text": [
      "[5,   210] loss: 0.440\n"
     ]
    },
    {
     "name": "stderr",
     "output_type": "stream",
     "text": [
      "100%|█████████████████████████████████████████████████████████████████████████████| 280/280 [01:08<00:00,  4.10batch/s]\n"
     ]
    },
    {
     "name": "stdout",
     "output_type": "stream",
     "text": [
      "[5,   280] loss: 0.422\n"
     ]
    },
    {
     "name": "stderr",
     "output_type": "stream",
     "text": [
      " 25%|███████████████████▌                                                          | 70/280 [00:16<00:48,  4.37batch/s]"
     ]
    },
    {
     "name": "stdout",
     "output_type": "stream",
     "text": [
      "[6,    70] loss: 0.442\n"
     ]
    },
    {
     "name": "stderr",
     "output_type": "stream",
     "text": [
      " 50%|██████████████████████████████████████▌                                      | 140/280 [00:34<00:35,  3.92batch/s]"
     ]
    },
    {
     "name": "stdout",
     "output_type": "stream",
     "text": [
      "[6,   140] loss: 0.398\n"
     ]
    },
    {
     "name": "stderr",
     "output_type": "stream",
     "text": [
      " 75%|█████████████████████████████████████████████████████████▊                   | 210/280 [00:50<00:15,  4.41batch/s]"
     ]
    },
    {
     "name": "stdout",
     "output_type": "stream",
     "text": [
      "[6,   210] loss: 0.333\n"
     ]
    },
    {
     "name": "stderr",
     "output_type": "stream",
     "text": [
      "100%|█████████████████████████████████████████████████████████████████████████████| 280/280 [01:07<00:00,  4.12batch/s]\n"
     ]
    },
    {
     "name": "stdout",
     "output_type": "stream",
     "text": [
      "[6,   280] loss: 0.379\n"
     ]
    },
    {
     "name": "stderr",
     "output_type": "stream",
     "text": [
      " 25%|███████████████████▌                                                          | 70/280 [00:16<00:48,  4.33batch/s]"
     ]
    },
    {
     "name": "stdout",
     "output_type": "stream",
     "text": [
      "[7,    70] loss: 0.378\n"
     ]
    },
    {
     "name": "stderr",
     "output_type": "stream",
     "text": [
      " 50%|██████████████████████████████████████▌                                      | 140/280 [00:33<00:34,  4.01batch/s]"
     ]
    },
    {
     "name": "stdout",
     "output_type": "stream",
     "text": [
      "[7,   140] loss: 0.363\n"
     ]
    },
    {
     "name": "stderr",
     "output_type": "stream",
     "text": [
      " 75%|█████████████████████████████████████████████████████████▊                   | 210/280 [00:50<00:16,  4.35batch/s]"
     ]
    },
    {
     "name": "stdout",
     "output_type": "stream",
     "text": [
      "[7,   210] loss: 0.316\n"
     ]
    },
    {
     "name": "stderr",
     "output_type": "stream",
     "text": [
      "100%|█████████████████████████████████████████████████████████████████████████████| 280/280 [01:07<00:00,  4.15batch/s]\n"
     ]
    },
    {
     "name": "stdout",
     "output_type": "stream",
     "text": [
      "[7,   280] loss: 0.324\n"
     ]
    },
    {
     "name": "stderr",
     "output_type": "stream",
     "text": [
      " 25%|███████████████████▌                                                          | 70/280 [00:17<00:52,  3.98batch/s]"
     ]
    },
    {
     "name": "stdout",
     "output_type": "stream",
     "text": [
      "[8,    70] loss: 0.371\n"
     ]
    },
    {
     "name": "stderr",
     "output_type": "stream",
     "text": [
      " 50%|██████████████████████████████████████▌                                      | 140/280 [00:33<00:32,  4.24batch/s]"
     ]
    },
    {
     "name": "stdout",
     "output_type": "stream",
     "text": [
      "[8,   140] loss: 0.289\n"
     ]
    },
    {
     "name": "stderr",
     "output_type": "stream",
     "text": [
      " 75%|█████████████████████████████████████████████████████████▊                   | 210/280 [00:50<00:17,  3.98batch/s]"
     ]
    },
    {
     "name": "stdout",
     "output_type": "stream",
     "text": [
      "[8,   210] loss: 0.281\n"
     ]
    },
    {
     "name": "stderr",
     "output_type": "stream",
     "text": [
      "100%|█████████████████████████████████████████████████████████████████████████████| 280/280 [01:07<00:00,  4.16batch/s]\n"
     ]
    },
    {
     "name": "stdout",
     "output_type": "stream",
     "text": [
      "[8,   280] loss: 0.274\n"
     ]
    },
    {
     "name": "stderr",
     "output_type": "stream",
     "text": [
      " 25%|███████████████████▌                                                          | 70/280 [00:16<00:51,  4.08batch/s]"
     ]
    },
    {
     "name": "stdout",
     "output_type": "stream",
     "text": [
      "[9,    70] loss: 0.473\n"
     ]
    },
    {
     "name": "stderr",
     "output_type": "stream",
     "text": [
      " 50%|██████████████████████████████████████▊                                      | 141/280 [00:33<00:32,  4.34batch/s]"
     ]
    },
    {
     "name": "stdout",
     "output_type": "stream",
     "text": [
      "[9,   140] loss: 0.329\n"
     ]
    },
    {
     "name": "stderr",
     "output_type": "stream",
     "text": [
      " 75%|█████████████████████████████████████████████████████████▊                   | 210/280 [00:50<00:16,  4.34batch/s]"
     ]
    },
    {
     "name": "stdout",
     "output_type": "stream",
     "text": [
      "[9,   210] loss: 0.309\n"
     ]
    },
    {
     "name": "stderr",
     "output_type": "stream",
     "text": [
      "100%|█████████████████████████████████████████████████████████████████████████████| 280/280 [01:07<00:00,  4.16batch/s]\n"
     ]
    },
    {
     "name": "stdout",
     "output_type": "stream",
     "text": [
      "[9,   280] loss: 0.324\n"
     ]
    },
    {
     "name": "stderr",
     "output_type": "stream",
     "text": [
      " 25%|███████████████████▌                                                          | 70/280 [00:16<00:46,  4.56batch/s]"
     ]
    },
    {
     "name": "stdout",
     "output_type": "stream",
     "text": [
      "[10,    70] loss: 0.315\n"
     ]
    },
    {
     "name": "stderr",
     "output_type": "stream",
     "text": [
      " 50%|██████████████████████████████████████▌                                      | 140/280 [00:33<00:31,  4.41batch/s]"
     ]
    },
    {
     "name": "stdout",
     "output_type": "stream",
     "text": [
      "[10,   140] loss: 0.276\n"
     ]
    },
    {
     "name": "stderr",
     "output_type": "stream",
     "text": [
      " 75%|██████████████████████████████████████████████████████████                   | 211/280 [00:50<00:16,  4.28batch/s]"
     ]
    },
    {
     "name": "stdout",
     "output_type": "stream",
     "text": [
      "[10,   210] loss: 0.256\n"
     ]
    },
    {
     "name": "stderr",
     "output_type": "stream",
     "text": [
      "100%|█████████████████████████████████████████████████████████████████████████████| 280/280 [01:07<00:00,  4.16batch/s]\n"
     ]
    },
    {
     "name": "stdout",
     "output_type": "stream",
     "text": [
      "[10,   280] loss: 0.250\n"
     ]
    },
    {
     "name": "stderr",
     "output_type": "stream",
     "text": [
      " 25%|███████████████████▌                                                          | 70/280 [00:17<00:54,  3.85batch/s]"
     ]
    },
    {
     "name": "stdout",
     "output_type": "stream",
     "text": [
      "[11,    70] loss: 0.278\n"
     ]
    },
    {
     "name": "stderr",
     "output_type": "stream",
     "text": [
      " 50%|██████████████████████████████████████▌                                      | 140/280 [00:33<00:30,  4.56batch/s]"
     ]
    },
    {
     "name": "stdout",
     "output_type": "stream",
     "text": [
      "[11,   140] loss: 0.262\n"
     ]
    },
    {
     "name": "stderr",
     "output_type": "stream",
     "text": [
      " 75%|█████████████████████████████████████████████████████████▊                   | 210/280 [00:50<00:17,  4.05batch/s]"
     ]
    },
    {
     "name": "stdout",
     "output_type": "stream",
     "text": [
      "[11,   210] loss: 0.244\n"
     ]
    },
    {
     "name": "stderr",
     "output_type": "stream",
     "text": [
      "100%|█████████████████████████████████████████████████████████████████████████████| 280/280 [01:07<00:00,  4.16batch/s]\n"
     ]
    },
    {
     "name": "stdout",
     "output_type": "stream",
     "text": [
      "[11,   280] loss: 0.213\n"
     ]
    },
    {
     "name": "stderr",
     "output_type": "stream",
     "text": [
      " 25%|███████████████████▊                                                          | 71/280 [00:16<00:39,  5.34batch/s]"
     ]
    },
    {
     "name": "stdout",
     "output_type": "stream",
     "text": [
      "[12,    70] loss: 0.220\n"
     ]
    },
    {
     "name": "stderr",
     "output_type": "stream",
     "text": [
      " 50%|██████████████████████████████████████▊                                      | 141/280 [00:28<00:23,  5.87batch/s]"
     ]
    },
    {
     "name": "stdout",
     "output_type": "stream",
     "text": [
      "[12,   140] loss: 0.251\n"
     ]
    },
    {
     "name": "stderr",
     "output_type": "stream",
     "text": [
      " 75%|██████████████████████████████████████████████████████████                   | 211/280 [00:40<00:11,  5.91batch/s]"
     ]
    },
    {
     "name": "stdout",
     "output_type": "stream",
     "text": [
      "[12,   210] loss: 0.204\n"
     ]
    },
    {
     "name": "stderr",
     "output_type": "stream",
     "text": [
      "100%|█████████████████████████████████████████████████████████████████████████████| 280/280 [00:51<00:00,  5.39batch/s]\n"
     ]
    },
    {
     "name": "stdout",
     "output_type": "stream",
     "text": [
      "[12,   280] loss: 0.223\n"
     ]
    },
    {
     "name": "stderr",
     "output_type": "stream",
     "text": [
      " 25%|███████████████████▊                                                          | 71/280 [00:11<00:34,  6.00batch/s]"
     ]
    },
    {
     "name": "stdout",
     "output_type": "stream",
     "text": [
      "[13,    70] loss: 0.215\n"
     ]
    },
    {
     "name": "stderr",
     "output_type": "stream",
     "text": [
      " 50%|██████████████████████████████████████▊                                      | 141/280 [00:23<00:23,  6.00batch/s]"
     ]
    },
    {
     "name": "stdout",
     "output_type": "stream",
     "text": [
      "[13,   140] loss: 0.239\n"
     ]
    },
    {
     "name": "stderr",
     "output_type": "stream",
     "text": [
      " 75%|██████████████████████████████████████████████████████████                   | 211/280 [00:35<00:11,  5.99batch/s]"
     ]
    },
    {
     "name": "stdout",
     "output_type": "stream",
     "text": [
      "[13,   210] loss: 0.192\n"
     ]
    },
    {
     "name": "stderr",
     "output_type": "stream",
     "text": [
      "100%|█████████████████████████████████████████████████████████████████████████████| 280/280 [00:47<00:00,  5.84batch/s]\n"
     ]
    },
    {
     "name": "stdout",
     "output_type": "stream",
     "text": [
      "[13,   280] loss: 0.237\n"
     ]
    },
    {
     "name": "stderr",
     "output_type": "stream",
     "text": [
      " 25%|███████████████████▊                                                          | 71/280 [00:11<00:35,  5.97batch/s]"
     ]
    },
    {
     "name": "stdout",
     "output_type": "stream",
     "text": [
      "[14,    70] loss: 0.187\n"
     ]
    },
    {
     "name": "stderr",
     "output_type": "stream",
     "text": [
      " 50%|██████████████████████████████████████▊                                      | 141/280 [00:23<00:23,  5.79batch/s]"
     ]
    },
    {
     "name": "stdout",
     "output_type": "stream",
     "text": [
      "[14,   140] loss: 0.189\n"
     ]
    },
    {
     "name": "stderr",
     "output_type": "stream",
     "text": [
      " 75%|██████████████████████████████████████████████████████████                   | 211/280 [00:35<00:11,  6.00batch/s]"
     ]
    },
    {
     "name": "stdout",
     "output_type": "stream",
     "text": [
      "[14,   210] loss: 0.194\n"
     ]
    },
    {
     "name": "stderr",
     "output_type": "stream",
     "text": [
      "100%|█████████████████████████████████████████████████████████████████████████████| 280/280 [00:47<00:00,  5.95batch/s]\n"
     ]
    },
    {
     "name": "stdout",
     "output_type": "stream",
     "text": [
      "[14,   280] loss: 0.234\n"
     ]
    },
    {
     "name": "stderr",
     "output_type": "stream",
     "text": [
      " 25%|███████████████████▊                                                          | 71/280 [00:11<00:34,  6.04batch/s]"
     ]
    },
    {
     "name": "stdout",
     "output_type": "stream",
     "text": [
      "[15,    70] loss: 0.211\n"
     ]
    },
    {
     "name": "stderr",
     "output_type": "stream",
     "text": [
      " 50%|██████████████████████████████████████▊                                      | 141/280 [00:23<00:23,  5.95batch/s]"
     ]
    },
    {
     "name": "stdout",
     "output_type": "stream",
     "text": [
      "[15,   140] loss: 0.149\n"
     ]
    },
    {
     "name": "stderr",
     "output_type": "stream",
     "text": [
      " 75%|██████████████████████████████████████████████████████████                   | 211/280 [00:35<00:11,  5.90batch/s]"
     ]
    },
    {
     "name": "stdout",
     "output_type": "stream",
     "text": [
      "[15,   210] loss: 0.188\n"
     ]
    },
    {
     "name": "stderr",
     "output_type": "stream",
     "text": [
      "100%|█████████████████████████████████████████████████████████████████████████████| 280/280 [00:46<00:00,  5.99batch/s]\n"
     ]
    },
    {
     "name": "stdout",
     "output_type": "stream",
     "text": [
      "[15,   280] loss: 0.245\n"
     ]
    },
    {
     "name": "stderr",
     "output_type": "stream",
     "text": [
      " 25%|███████████████████▊                                                          | 71/280 [00:12<00:35,  5.91batch/s]"
     ]
    },
    {
     "name": "stdout",
     "output_type": "stream",
     "text": [
      "[16,    70] loss: 0.175\n"
     ]
    },
    {
     "name": "stderr",
     "output_type": "stream",
     "text": [
      " 50%|██████████████████████████████████████▊                                      | 141/280 [00:23<00:22,  6.07batch/s]"
     ]
    },
    {
     "name": "stdout",
     "output_type": "stream",
     "text": [
      "[16,   140] loss: 0.153\n"
     ]
    },
    {
     "name": "stderr",
     "output_type": "stream",
     "text": [
      " 75%|██████████████████████████████████████████████████████████                   | 211/280 [00:36<00:11,  5.93batch/s]"
     ]
    },
    {
     "name": "stdout",
     "output_type": "stream",
     "text": [
      "[16,   210] loss: 0.148\n"
     ]
    },
    {
     "name": "stderr",
     "output_type": "stream",
     "text": [
      "100%|█████████████████████████████████████████████████████████████████████████████| 280/280 [00:47<00:00,  5.88batch/s]\n"
     ]
    },
    {
     "name": "stdout",
     "output_type": "stream",
     "text": [
      "[16,   280] loss: 0.237\n"
     ]
    },
    {
     "name": "stderr",
     "output_type": "stream",
     "text": [
      " 25%|███████████████████▊                                                          | 71/280 [00:11<00:34,  6.05batch/s]"
     ]
    },
    {
     "name": "stdout",
     "output_type": "stream",
     "text": [
      "[17,    70] loss: 0.211\n"
     ]
    },
    {
     "name": "stderr",
     "output_type": "stream",
     "text": [
      " 50%|██████████████████████████████████████▊                                      | 141/280 [00:23<00:23,  5.83batch/s]"
     ]
    },
    {
     "name": "stdout",
     "output_type": "stream",
     "text": [
      "[17,   140] loss: 0.124\n"
     ]
    },
    {
     "name": "stderr",
     "output_type": "stream",
     "text": [
      " 75%|██████████████████████████████████████████████████████████                   | 211/280 [00:35<00:11,  5.84batch/s]"
     ]
    },
    {
     "name": "stdout",
     "output_type": "stream",
     "text": [
      "[17,   210] loss: 0.151\n"
     ]
    },
    {
     "name": "stderr",
     "output_type": "stream",
     "text": [
      "100%|█████████████████████████████████████████████████████████████████████████████| 280/280 [00:47<00:00,  5.93batch/s]\n"
     ]
    },
    {
     "name": "stdout",
     "output_type": "stream",
     "text": [
      "[17,   280] loss: 0.197\n"
     ]
    },
    {
     "name": "stderr",
     "output_type": "stream",
     "text": [
      " 25%|███████████████████▊                                                          | 71/280 [00:12<00:35,  5.93batch/s]"
     ]
    },
    {
     "name": "stdout",
     "output_type": "stream",
     "text": [
      "[18,    70] loss: 0.315\n"
     ]
    },
    {
     "name": "stderr",
     "output_type": "stream",
     "text": [
      " 50%|██████████████████████████████████████▌                                      | 140/280 [00:25<00:37,  3.70batch/s]"
     ]
    },
    {
     "name": "stdout",
     "output_type": "stream",
     "text": [
      "[18,   140] loss: 0.162\n"
     ]
    },
    {
     "name": "stderr",
     "output_type": "stream",
     "text": [
      " 75%|██████████████████████████████████████████████████████████                   | 211/280 [00:37<00:11,  5.95batch/s]"
     ]
    },
    {
     "name": "stdout",
     "output_type": "stream",
     "text": [
      "[18,   210] loss: 0.135\n"
     ]
    },
    {
     "name": "stderr",
     "output_type": "stream",
     "text": [
      "100%|█████████████████████████████████████████████████████████████████████████████| 280/280 [00:51<00:00,  5.45batch/s]\n"
     ]
    },
    {
     "name": "stdout",
     "output_type": "stream",
     "text": [
      "[18,   280] loss: 0.133\n"
     ]
    },
    {
     "name": "stderr",
     "output_type": "stream",
     "text": [
      " 25%|███████████████████▊                                                          | 71/280 [00:12<00:35,  5.93batch/s]"
     ]
    },
    {
     "name": "stdout",
     "output_type": "stream",
     "text": [
      "[19,    70] loss: 0.153\n"
     ]
    },
    {
     "name": "stderr",
     "output_type": "stream",
     "text": [
      " 50%|██████████████████████████████████████▊                                      | 141/280 [00:24<00:22,  6.08batch/s]"
     ]
    },
    {
     "name": "stdout",
     "output_type": "stream",
     "text": [
      "[19,   140] loss: 0.127\n"
     ]
    },
    {
     "name": "stderr",
     "output_type": "stream",
     "text": [
      " 75%|██████████████████████████████████████████████████████████                   | 211/280 [00:36<00:11,  5.80batch/s]"
     ]
    },
    {
     "name": "stdout",
     "output_type": "stream",
     "text": [
      "[19,   210] loss: 0.127\n"
     ]
    },
    {
     "name": "stderr",
     "output_type": "stream",
     "text": [
      "100%|█████████████████████████████████████████████████████████████████████████████| 280/280 [00:47<00:00,  5.84batch/s]\n"
     ]
    },
    {
     "name": "stdout",
     "output_type": "stream",
     "text": [
      "[19,   280] loss: 0.155\n"
     ]
    },
    {
     "name": "stderr",
     "output_type": "stream",
     "text": [
      " 25%|███████████████████▊                                                          | 71/280 [00:11<00:35,  5.95batch/s]"
     ]
    },
    {
     "name": "stdout",
     "output_type": "stream",
     "text": [
      "[20,    70] loss: 0.120\n"
     ]
    },
    {
     "name": "stderr",
     "output_type": "stream",
     "text": [
      " 50%|██████████████████████████████████████▊                                      | 141/280 [00:23<00:23,  5.91batch/s]"
     ]
    },
    {
     "name": "stdout",
     "output_type": "stream",
     "text": [
      "[20,   140] loss: 0.122\n"
     ]
    },
    {
     "name": "stderr",
     "output_type": "stream",
     "text": [
      " 75%|██████████████████████████████████████████████████████████                   | 211/280 [00:35<00:11,  5.99batch/s]"
     ]
    },
    {
     "name": "stdout",
     "output_type": "stream",
     "text": [
      "[20,   210] loss: 0.146\n"
     ]
    },
    {
     "name": "stderr",
     "output_type": "stream",
     "text": [
      "100%|█████████████████████████████████████████████████████████████████████████████| 280/280 [00:47<00:00,  5.91batch/s]"
     ]
    },
    {
     "name": "stdout",
     "output_type": "stream",
     "text": [
      "[20,   280] loss: 0.132\n"
     ]
    },
    {
     "name": "stderr",
     "output_type": "stream",
     "text": [
      "\n"
     ]
    }
   ],
   "source": [
    "resnet_prop, train_loss_rms = train_model(model_rms)"
   ]
  },
  {
   "cell_type": "code",
   "execution_count": 34,
   "id": "095512c8",
   "metadata": {
    "id": "095512c8",
    "outputId": "ed48ff58-8f86-4678-ddce-e9e035b23519",
    "pycharm": {
     "name": "#%%\n"
    }
   },
   "outputs": [
    {
     "name": "stdout",
     "output_type": "stream",
     "text": [
      "Accuracy of the network on the test images: 73 %\n"
     ]
    }
   ],
   "source": [
    "test_model(resnet_prop)"
   ]
  },
  {
   "cell_type": "code",
   "execution_count": null,
   "id": "80770cc1",
   "metadata": {
    "id": "80770cc1",
    "outputId": "a96cc390-f2c9-4f56-f554-b1eca3d703dd",
    "pycharm": {
     "name": "#%%\n"
    }
   },
   "outputs": [],
   "source": []
  },
  {
   "cell_type": "code",
   "execution_count": 35,
   "id": "e1b1ab0c",
   "metadata": {
    "id": "e1b1ab0c",
    "outputId": "f90ec1fb-09cd-43a2-acb1-05f46c4ce544",
    "pycharm": {
     "name": "#%%\n"
    }
   },
   "outputs": [
    {
     "data": {
      "image/png": "[encoded data removed]",
      "text/plain": [
       "<Figure size 1400x800 with 1 Axes>"
      ]
     },
     "metadata": {},
     "output_type": "display_data"
    }
   ],
   "source": [
    "# Train Loss v Test Accuracy Plot_RMSprop Optimizer\n",
    "plt.figure(figsize=(14,8))\n",
    "plt.plot(train_loss_rms, color='r')\n",
    "plt.xlabel('Epochs')\n",
    "plt.ylabel('Training loss')\n",
    "plt.title('Train Loss with ResNet 50 and RMSprop Optimizer')\n",
    "plt.show()"
   ]
  },
  {
   "cell_type": "code",
   "execution_count": 94,
   "id": "11c74908",
   "metadata": {
    "id": "11c74908",
    "pycharm": {
     "name": "#%%\n"
    }
   },
   "outputs": [],
   "source": [
    "# Saving ResNet50 model -> _RMSprop Optimizer\n",
    "torch.save(resnet_prop.state_dict(), os.path.join(owd, 'ResNet50__RMSprop.pth'))"
   ]
  },
  {
   "cell_type": "markdown",
   "id": "725c7a0d",
   "metadata": {
    "id": "725c7a0d",
    "pycharm": {
     "name": "#%% md\n"
    }
   },
   "source": [
    "## ResNet 50 -> AdaBound Optimizer"
   ]
  },
  {
   "cell_type": "code",
   "execution_count": 97,
   "id": "26715455",
   "metadata": {
    "id": "26715455",
    "pycharm": {
     "name": "#%%\n"
    }
   },
   "outputs": [],
   "source": [
    "model = resnet50(pretrained = True)\n",
    "model.fc = nn.Linear(in_features=2048, out_features=2)\n",
    "model = model.to(device)\n",
    "\n",
    "# Initializing Optimizer\n",
    "optimizer = tor_optim.AdaBound(\n",
    "    model.parameters(),\n",
    "    lr= 1e-3,\n",
    "    betas= (0.9, 0.999),\n",
    "    final_lr = 0.1,\n",
    "    gamma=1e-3,\n",
    "    eps= 1e-8,\n",
    "    weight_decay=0,\n",
    "    amsbound=False,\n",
    ")\n",
    "\n",
    "# Initializing Loss Function\n",
    "loss_fn = nn.CrossEntropyLoss()"
   ]
  },
  {
   "cell_type": "code",
   "execution_count": 98,
   "id": "36a3b64b",
   "metadata": {
    "id": "36a3b64b",
    "outputId": "8938639d-5af0-489a-b47e-5b0dca985523",
    "pycharm": {
     "name": "#%%\n"
    }
   },
   "outputs": [
    {
     "name": "stderr",
     "output_type": "stream",
     "text": [
      " 25%|███████████████████▌                                                          | 70/280 [00:18<00:50,  4.14batch/s]"
     ]
    },
    {
     "name": "stdout",
     "output_type": "stream",
     "text": [
      "[1,    70] loss: 0.377\n"
     ]
    },
    {
     "name": "stderr",
     "output_type": "stream",
     "text": [
      " 50%|██████████████████████████████████████▌                                      | 140/280 [00:35<00:36,  3.87batch/s]"
     ]
    },
    {
     "name": "stdout",
     "output_type": "stream",
     "text": [
      "[1,   140] loss: 0.210\n"
     ]
    },
    {
     "name": "stderr",
     "output_type": "stream",
     "text": [
      " 69%|█████████████████████████████████████████████████████▎                       | 194/280 [00:49<00:21,  3.92batch/s]\n"
     ]
    },
    {
     "ename": "KeyboardInterrupt",
     "evalue": "",
     "output_type": "error",
     "traceback": [
      "\u001b[1;31m---------------------------------------------------------------------------\u001b[0m",
      "\u001b[1;31mKeyboardInterrupt\u001b[0m                         Traceback (most recent call last)",
      "Cell \u001b[1;32mIn[98], line 1\u001b[0m\n\u001b[1;32m----> 1\u001b[0m resnet_adb, train_loss_adb\u001b[38;5;241m=\u001b[39m \u001b[43mtrain_model\u001b[49m\u001b[43m(\u001b[49m\u001b[43mmodel\u001b[49m\u001b[43m)\u001b[49m\n",
      "Cell \u001b[1;32mIn[89], line 19\u001b[0m, in \u001b[0;36mtrain_model\u001b[1;34m(model)\u001b[0m\n\u001b[0;32m     17\u001b[0m loss\u001b[38;5;241m.\u001b[39mbackward()\n\u001b[0;32m     18\u001b[0m optimizer\u001b[38;5;241m.\u001b[39mstep()\n\u001b[1;32m---> 19\u001b[0m running_loss \u001b[38;5;241m+\u001b[39m\u001b[38;5;241m=\u001b[39m \u001b[43mloss\u001b[49m\u001b[38;5;241;43m.\u001b[39;49m\u001b[43mitem\u001b[49m\u001b[43m(\u001b[49m\u001b[43m)\u001b[49m\n\u001b[0;32m     21\u001b[0m \u001b[38;5;28;01mif\u001b[39;00m i \u001b[38;5;241m%\u001b[39m \u001b[38;5;241m70\u001b[39m \u001b[38;5;241m==\u001b[39m \u001b[38;5;241m69\u001b[39m:    \u001b[38;5;66;03m# print and store every 70 mini-batches: 4 times per epoch\u001b[39;00m\n\u001b[0;32m     22\u001b[0m     \u001b[38;5;28mprint\u001b[39m(\u001b[38;5;124mf\u001b[39m\u001b[38;5;124m'\u001b[39m\u001b[38;5;124m[\u001b[39m\u001b[38;5;132;01m{\u001b[39;00mepoch \u001b[38;5;241m+\u001b[39m \u001b[38;5;241m1\u001b[39m\u001b[38;5;132;01m}\u001b[39;00m\u001b[38;5;124m, \u001b[39m\u001b[38;5;132;01m{\u001b[39;00mi \u001b[38;5;241m+\u001b[39m \u001b[38;5;241m1\u001b[39m\u001b[38;5;132;01m:\u001b[39;00m\u001b[38;5;124m5d\u001b[39m\u001b[38;5;132;01m}\u001b[39;00m\u001b[38;5;124m] loss: \u001b[39m\u001b[38;5;132;01m{\u001b[39;00mrunning_loss \u001b[38;5;241m/\u001b[39m \u001b[38;5;241m70\u001b[39m\u001b[38;5;132;01m:\u001b[39;00m\u001b[38;5;124m.3f\u001b[39m\u001b[38;5;132;01m}\u001b[39;00m\u001b[38;5;124m'\u001b[39m)\n",
      "\u001b[1;31mKeyboardInterrupt\u001b[0m: "
     ]
    }
   ],
   "source": [
    "resnet_adb, train_loss_adb= train_model(model)"
   ]
  },
  {
   "cell_type": "code",
   "execution_count": null,
   "id": "12eadc26",
   "metadata": {
    "id": "12eadc26",
    "outputId": "806c1a99-b2a0-459a-cc0d-0f3d28582cce",
    "pycharm": {
     "name": "#%%\n"
    }
   },
   "outputs": [],
   "source": []
  },
  {
   "cell_type": "code",
   "execution_count": null,
   "id": "8395082b",
   "metadata": {
    "id": "8395082b",
    "outputId": "56e62557-984f-4b80-b738-d9e55a8977fb",
    "pycharm": {
     "name": "#%%\n"
    }
   },
   "outputs": [],
   "source": []
  },
  {
   "cell_type": "code",
   "execution_count": null,
   "id": "a7cd7611",
   "metadata": {
    "id": "a7cd7611",
    "outputId": "16ff69c8-54cb-4b7c-9340-7de49743b505",
    "pycharm": {
     "name": "#%%\n"
    }
   },
   "outputs": [],
   "source": [
    "# # Train Loss v Test Accuracy Plot_AdaBound\n",
    "# plt.figure(figsize=(14,8))\n",
    "# plt.plot(train_loss_adb,'-o', color='r')\n",
    "# plt.plot(test_acc_adb,'-o', color='g')\n",
    "# plt.xlabel('Epochs')\n",
    "# plt.ylabel('Accuracy_Loss')\n",
    "# plt.legend(['Train Loss','Test Accuracy'])\n",
    "# plt.title('Train Loss vs Test Accuracy Plot_ResNet 50_AdaBound Optimizer')\n",
    "# plt.show()"
   ]
  },
  {
   "cell_type": "code",
   "execution_count": null,
   "id": "ca67d51e",
   "metadata": {
    "id": "ca67d51e",
    "pycharm": {
     "name": "#%%\n"
    }
   },
   "outputs": [],
   "source": [
    "# Saving ResNet50 model -> AdaBound Optimizer\n",
    "torch.save(model.state_dict(), os.path.join(owd, 'ResNet50__AdaBound.pth'))"
   ]
  },
  {
   "cell_type": "markdown",
   "id": "ccec2c91",
   "metadata": {
    "id": "ccec2c91",
    "pycharm": {
     "name": "#%% md\n"
    }
   },
   "source": [
    "## ShuffleNet v2 with AdaBound Optimizer"
   ]
  },
  {
   "cell_type": "code",
   "execution_count": 36,
   "id": "df994dea",
   "metadata": {
    "colab": {
     "referenced_widgets": [
      "d72434f73714432f93a42b538615ff50"
     ]
    },
    "id": "df994dea",
    "outputId": "69539b75-c3b4-49a4-f46d-a0366c12d722",
    "pycharm": {
     "name": "#%%\n"
    }
   },
   "outputs": [
    {
     "name": "stderr",
     "output_type": "stream",
     "text": [
      "Using cache found in C:\\Users\\abhis/.cache\\torch\\hub\\pytorch_vision_v0.10.0\n"
     ]
    }
   ],
   "source": [
    "# Loading pre-trained ShuffleNet v2 model\n",
    "shufflenet = torch.hub.load('pytorch/vision:v0.10.0', 'shufflenet_v2_x1_0', pretrained=True)"
   ]
  },
  {
   "cell_type": "code",
   "execution_count": 37,
   "id": "05cf668f",
   "metadata": {
    "id": "05cf668f",
    "outputId": "d98ecb75-9f2e-4bd4-e70c-d72687250c38",
    "pycharm": {
     "name": "#%%\n"
    }
   },
   "outputs": [],
   "source": [
    "# Chaning the output layer of the shufflenet v2 model\n",
    "shufflenet.fc = nn.Linear(in_features=1024, out_features=2)\n",
    "shufflenet = shufflenet.to(device)"
   ]
  },
  {
   "cell_type": "code",
   "execution_count": 38,
   "id": "dcabe107",
   "metadata": {
    "id": "dcabe107",
    "pycharm": {
     "name": "#%%\n"
    }
   },
   "outputs": [],
   "source": [
    "# Initializing Optimizer\n",
    "optimizer = tor_optim.AdaBound(\n",
    "    shufflenet.parameters(),\n",
    "    lr= 1e-3,\n",
    "    betas= (0.9, 0.999),\n",
    "    final_lr = 0.1,\n",
    "    gamma=1e-3,\n",
    "    eps= 1e-8,\n",
    "    weight_decay=0,\n",
    "    amsbound=False,\n",
    ")\n",
    "\n",
    "# Initializing Loss Function\n",
    "loss_fn = nn.CrossEntropyLoss()"
   ]
  },
  {
   "cell_type": "code",
   "execution_count": 39,
   "id": "8803bc2e",
   "metadata": {
    "id": "8803bc2e",
    "outputId": "f3dda01b-7394-4c13-ecd3-dcf2daaba506",
    "pycharm": {
     "name": "#%%\n"
    },
    "scrolled": true
   },
   "outputs": [
    {
     "name": "stderr",
     "output_type": "stream",
     "text": [
      " 25%|███████████████████▌                                                          | 70/280 [00:12<00:35,  5.94batch/s]"
     ]
    },
    {
     "name": "stdout",
     "output_type": "stream",
     "text": [
      "[1,    70] loss: 0.300\n"
     ]
    },
    {
     "name": "stderr",
     "output_type": "stream",
     "text": [
      " 50%|██████████████████████████████████████▊                                      | 141/280 [00:24<00:22,  6.22batch/s]"
     ]
    },
    {
     "name": "stdout",
     "output_type": "stream",
     "text": [
      "[1,   140] loss: 0.072\n"
     ]
    },
    {
     "name": "stderr",
     "output_type": "stream",
     "text": [
      " 75%|██████████████████████████████████████████████████████████                   | 211/280 [00:36<00:10,  6.42batch/s]"
     ]
    },
    {
     "name": "stdout",
     "output_type": "stream",
     "text": [
      "[1,   210] loss: 0.053\n"
     ]
    },
    {
     "name": "stderr",
     "output_type": "stream",
     "text": [
      "100%|█████████████████████████████████████████████████████████████████████████████| 280/280 [00:47<00:00,  5.84batch/s]\n"
     ]
    },
    {
     "name": "stdout",
     "output_type": "stream",
     "text": [
      "[1,   280] loss: 0.103\n"
     ]
    },
    {
     "name": "stderr",
     "output_type": "stream",
     "text": [
      " 25%|███████████████████▊                                                          | 71/280 [00:12<00:34,  6.11batch/s]"
     ]
    },
    {
     "name": "stdout",
     "output_type": "stream",
     "text": [
      "[2,    70] loss: 0.053\n"
     ]
    },
    {
     "name": "stderr",
     "output_type": "stream",
     "text": [
      " 50%|██████████████████████████████████████▊                                      | 141/280 [00:23<00:23,  5.86batch/s]"
     ]
    },
    {
     "name": "stdout",
     "output_type": "stream",
     "text": [
      "[2,   140] loss: 0.030\n"
     ]
    },
    {
     "name": "stderr",
     "output_type": "stream",
     "text": [
      " 75%|██████████████████████████████████████████████████████████                   | 211/280 [00:35<00:10,  6.44batch/s]"
     ]
    },
    {
     "name": "stdout",
     "output_type": "stream",
     "text": [
      "[2,   210] loss: 0.021\n"
     ]
    },
    {
     "name": "stderr",
     "output_type": "stream",
     "text": [
      "100%|█████████████████████████████████████████████████████████████████████████████| 280/280 [00:46<00:00,  5.97batch/s]\n"
     ]
    },
    {
     "name": "stdout",
     "output_type": "stream",
     "text": [
      "[2,   280] loss: 0.025\n"
     ]
    },
    {
     "name": "stderr",
     "output_type": "stream",
     "text": [
      " 25%|███████████████████▊                                                          | 71/280 [00:12<00:37,  5.65batch/s]"
     ]
    },
    {
     "name": "stdout",
     "output_type": "stream",
     "text": [
      "[3,    70] loss: 0.019\n"
     ]
    },
    {
     "name": "stderr",
     "output_type": "stream",
     "text": [
      " 50%|██████████████████████████████████████▊                                      | 141/280 [00:23<00:20,  6.74batch/s]"
     ]
    },
    {
     "name": "stdout",
     "output_type": "stream",
     "text": [
      "[3,   140] loss: 0.015\n"
     ]
    },
    {
     "name": "stderr",
     "output_type": "stream",
     "text": [
      " 75%|██████████████████████████████████████████████████████████                   | 211/280 [00:34<00:10,  6.57batch/s]"
     ]
    },
    {
     "name": "stdout",
     "output_type": "stream",
     "text": [
      "[3,   210] loss: 0.020\n"
     ]
    },
    {
     "name": "stderr",
     "output_type": "stream",
     "text": [
      "100%|█████████████████████████████████████████████████████████████████████████████| 280/280 [00:44<00:00,  6.26batch/s]\n"
     ]
    },
    {
     "name": "stdout",
     "output_type": "stream",
     "text": [
      "[3,   280] loss: 0.019\n"
     ]
    },
    {
     "name": "stderr",
     "output_type": "stream",
     "text": [
      " 25%|███████████████████▊                                                          | 71/280 [00:11<00:31,  6.69batch/s]"
     ]
    },
    {
     "name": "stdout",
     "output_type": "stream",
     "text": [
      "[4,    70] loss: 0.012\n"
     ]
    },
    {
     "name": "stderr",
     "output_type": "stream",
     "text": [
      " 50%|██████████████████████████████████████▊                                      | 141/280 [00:25<00:28,  4.81batch/s]"
     ]
    },
    {
     "name": "stdout",
     "output_type": "stream",
     "text": [
      "[4,   140] loss: 0.012\n"
     ]
    },
    {
     "name": "stderr",
     "output_type": "stream",
     "text": [
      " 75%|█████████████████████████████████████████████████████████▊                   | 210/280 [00:39<00:14,  4.85batch/s]"
     ]
    },
    {
     "name": "stdout",
     "output_type": "stream",
     "text": [
      "[4,   210] loss: 0.009\n"
     ]
    },
    {
     "name": "stderr",
     "output_type": "stream",
     "text": [
      "100%|█████████████████████████████████████████████████████████████████████████████| 280/280 [00:54<00:00,  5.18batch/s]\n"
     ]
    },
    {
     "name": "stdout",
     "output_type": "stream",
     "text": [
      "[4,   280] loss: 0.032\n"
     ]
    },
    {
     "name": "stderr",
     "output_type": "stream",
     "text": [
      " 25%|███████████████████▌                                                          | 70/280 [00:14<00:44,  4.67batch/s]"
     ]
    },
    {
     "name": "stdout",
     "output_type": "stream",
     "text": [
      "[5,    70] loss: 0.052\n"
     ]
    },
    {
     "name": "stderr",
     "output_type": "stream",
     "text": [
      " 50%|██████████████████████████████████████▊                                      | 141/280 [00:29<00:28,  4.94batch/s]"
     ]
    },
    {
     "name": "stdout",
     "output_type": "stream",
     "text": [
      "[5,   140] loss: 0.020\n"
     ]
    },
    {
     "name": "stderr",
     "output_type": "stream",
     "text": [
      " 75%|██████████████████████████████████████████████████████████                   | 211/280 [00:44<00:13,  4.95batch/s]"
     ]
    },
    {
     "name": "stdout",
     "output_type": "stream",
     "text": [
      "[5,   210] loss: 0.018\n"
     ]
    },
    {
     "name": "stderr",
     "output_type": "stream",
     "text": [
      "100%|█████████████████████████████████████████████████████████████████████████████| 280/280 [00:58<00:00,  4.79batch/s]\n"
     ]
    },
    {
     "name": "stdout",
     "output_type": "stream",
     "text": [
      "[5,   280] loss: 0.017\n"
     ]
    },
    {
     "name": "stderr",
     "output_type": "stream",
     "text": [
      " 25%|███████████████████▌                                                          | 70/280 [00:15<00:47,  4.46batch/s]"
     ]
    },
    {
     "name": "stdout",
     "output_type": "stream",
     "text": [
      "[6,    70] loss: 0.010\n"
     ]
    },
    {
     "name": "stderr",
     "output_type": "stream",
     "text": [
      " 50%|██████████████████████████████████████▌                                      | 140/280 [00:29<00:28,  4.86batch/s]"
     ]
    },
    {
     "name": "stdout",
     "output_type": "stream",
     "text": [
      "[6,   140] loss: 0.012\n"
     ]
    },
    {
     "name": "stderr",
     "output_type": "stream",
     "text": [
      " 75%|█████████████████████████████████████████████████████████▊                   | 210/280 [00:44<00:14,  4.87batch/s]"
     ]
    },
    {
     "name": "stdout",
     "output_type": "stream",
     "text": [
      "[6,   210] loss: 0.009\n"
     ]
    },
    {
     "name": "stderr",
     "output_type": "stream",
     "text": [
      "100%|█████████████████████████████████████████████████████████████████████████████| 280/280 [00:58<00:00,  4.78batch/s]\n"
     ]
    },
    {
     "name": "stdout",
     "output_type": "stream",
     "text": [
      "[6,   280] loss: 0.013\n"
     ]
    },
    {
     "name": "stderr",
     "output_type": "stream",
     "text": [
      " 25%|███████████████████▌                                                          | 70/280 [00:14<00:43,  4.86batch/s]"
     ]
    },
    {
     "name": "stdout",
     "output_type": "stream",
     "text": [
      "[7,    70] loss: 0.008\n"
     ]
    },
    {
     "name": "stderr",
     "output_type": "stream",
     "text": [
      " 50%|██████████████████████████████████████▌                                      | 140/280 [00:28<00:28,  4.87batch/s]"
     ]
    },
    {
     "name": "stdout",
     "output_type": "stream",
     "text": [
      "[7,   140] loss: 0.011\n"
     ]
    },
    {
     "name": "stderr",
     "output_type": "stream",
     "text": [
      " 75%|█████████████████████████████████████████████████████████▊                   | 210/280 [00:43<00:15,  4.65batch/s]"
     ]
    },
    {
     "name": "stdout",
     "output_type": "stream",
     "text": [
      "[7,   210] loss: 0.012\n"
     ]
    },
    {
     "name": "stderr",
     "output_type": "stream",
     "text": [
      "100%|█████████████████████████████████████████████████████████████████████████████| 280/280 [00:54<00:00,  5.10batch/s]\n"
     ]
    },
    {
     "name": "stdout",
     "output_type": "stream",
     "text": [
      "[7,   280] loss: 0.007\n"
     ]
    },
    {
     "name": "stderr",
     "output_type": "stream",
     "text": [
      " 25%|███████████████████▊                                                          | 71/280 [00:11<00:30,  6.93batch/s]"
     ]
    },
    {
     "name": "stdout",
     "output_type": "stream",
     "text": [
      "[8,    70] loss: 0.007\n"
     ]
    },
    {
     "name": "stderr",
     "output_type": "stream",
     "text": [
      " 50%|██████████████████████████████████████▊                                      | 141/280 [00:23<00:20,  6.65batch/s]"
     ]
    },
    {
     "name": "stdout",
     "output_type": "stream",
     "text": [
      "[8,   140] loss: 0.006\n"
     ]
    },
    {
     "name": "stderr",
     "output_type": "stream",
     "text": [
      " 75%|█████████████████████████████████████████████████████████▊                   | 210/280 [00:36<00:13,  5.04batch/s]"
     ]
    },
    {
     "name": "stdout",
     "output_type": "stream",
     "text": [
      "[8,   210] loss: 0.004\n"
     ]
    },
    {
     "name": "stderr",
     "output_type": "stream",
     "text": [
      "100%|█████████████████████████████████████████████████████████████████████████████| 280/280 [00:49<00:00,  5.70batch/s]\n"
     ]
    },
    {
     "name": "stdout",
     "output_type": "stream",
     "text": [
      "[8,   280] loss: 0.008\n"
     ]
    },
    {
     "name": "stderr",
     "output_type": "stream",
     "text": [
      " 25%|███████████████████▊                                                          | 71/280 [00:12<00:33,  6.17batch/s]"
     ]
    },
    {
     "name": "stdout",
     "output_type": "stream",
     "text": [
      "[9,    70] loss: 0.004\n"
     ]
    },
    {
     "name": "stderr",
     "output_type": "stream",
     "text": [
      " 50%|██████████████████████████████████████▌                                      | 140/280 [00:25<00:23,  6.04batch/s]"
     ]
    },
    {
     "name": "stdout",
     "output_type": "stream",
     "text": [
      "[9,   140] loss: 0.005\n"
     ]
    },
    {
     "name": "stderr",
     "output_type": "stream",
     "text": [
      " 75%|█████████████████████████████████████████████████████████▊                   | 210/280 [00:38<00:15,  4.62batch/s]"
     ]
    },
    {
     "name": "stdout",
     "output_type": "stream",
     "text": [
      "[9,   210] loss: 0.005\n"
     ]
    },
    {
     "name": "stderr",
     "output_type": "stream",
     "text": [
      "100%|█████████████████████████████████████████████████████████████████████████████| 280/280 [00:51<00:00,  5.39batch/s]\n"
     ]
    },
    {
     "name": "stdout",
     "output_type": "stream",
     "text": [
      "[9,   280] loss: 0.007\n"
     ]
    },
    {
     "name": "stderr",
     "output_type": "stream",
     "text": [
      " 25%|███████████████████▊                                                          | 71/280 [00:12<00:38,  5.41batch/s]"
     ]
    },
    {
     "name": "stdout",
     "output_type": "stream",
     "text": [
      "[10,    70] loss: 0.007\n"
     ]
    },
    {
     "name": "stderr",
     "output_type": "stream",
     "text": [
      " 50%|██████████████████████████████████████▌                                      | 140/280 [00:25<00:25,  5.57batch/s]"
     ]
    },
    {
     "name": "stdout",
     "output_type": "stream",
     "text": [
      "[10,   140] loss: 0.006\n"
     ]
    },
    {
     "name": "stderr",
     "output_type": "stream",
     "text": [
      " 75%|██████████████████████████████████████████████████████████                   | 211/280 [00:37<00:10,  6.41batch/s]"
     ]
    },
    {
     "name": "stdout",
     "output_type": "stream",
     "text": [
      "[10,   210] loss: 0.011\n"
     ]
    },
    {
     "name": "stderr",
     "output_type": "stream",
     "text": [
      "100%|█████████████████████████████████████████████████████████████████████████████| 280/280 [00:49<00:00,  5.67batch/s]\n"
     ]
    },
    {
     "name": "stdout",
     "output_type": "stream",
     "text": [
      "[10,   280] loss: 0.041\n"
     ]
    },
    {
     "name": "stderr",
     "output_type": "stream",
     "text": [
      " 25%|███████████████████▊                                                          | 71/280 [00:12<00:35,  5.83batch/s]"
     ]
    },
    {
     "name": "stdout",
     "output_type": "stream",
     "text": [
      "[11,    70] loss: 0.046\n"
     ]
    },
    {
     "name": "stderr",
     "output_type": "stream",
     "text": [
      " 50%|██████████████████████████████████████▊                                      | 141/280 [00:25<00:25,  5.44batch/s]"
     ]
    },
    {
     "name": "stdout",
     "output_type": "stream",
     "text": [
      "[11,   140] loss: 0.015\n"
     ]
    },
    {
     "name": "stderr",
     "output_type": "stream",
     "text": [
      " 75%|█████████████████████████████████████████████████████████▊                   | 210/280 [00:36<00:12,  5.77batch/s]"
     ]
    },
    {
     "name": "stdout",
     "output_type": "stream",
     "text": [
      "[11,   210] loss: 0.012\n"
     ]
    },
    {
     "name": "stderr",
     "output_type": "stream",
     "text": [
      "100%|█████████████████████████████████████████████████████████████████████████████| 280/280 [00:49<00:00,  5.67batch/s]\n"
     ]
    },
    {
     "name": "stdout",
     "output_type": "stream",
     "text": [
      "[11,   280] loss: 0.025\n"
     ]
    },
    {
     "name": "stderr",
     "output_type": "stream",
     "text": [
      " 25%|███████████████████▊                                                          | 71/280 [00:13<00:32,  6.37batch/s]"
     ]
    },
    {
     "name": "stdout",
     "output_type": "stream",
     "text": [
      "[12,    70] loss: 0.111\n"
     ]
    },
    {
     "name": "stderr",
     "output_type": "stream",
     "text": [
      " 50%|██████████████████████████████████████▊                                      | 141/280 [00:25<00:21,  6.46batch/s]"
     ]
    },
    {
     "name": "stdout",
     "output_type": "stream",
     "text": [
      "[12,   140] loss: 0.037\n"
     ]
    },
    {
     "name": "stderr",
     "output_type": "stream",
     "text": [
      " 75%|██████████████████████████████████████████████████████████                   | 211/280 [00:37<00:10,  6.73batch/s]"
     ]
    },
    {
     "name": "stdout",
     "output_type": "stream",
     "text": [
      "[12,   210] loss: 0.018\n"
     ]
    },
    {
     "name": "stderr",
     "output_type": "stream",
     "text": [
      "100%|█████████████████████████████████████████████████████████████████████████████| 280/280 [00:51<00:00,  5.48batch/s]\n"
     ]
    },
    {
     "name": "stdout",
     "output_type": "stream",
     "text": [
      "[12,   280] loss: 0.019\n"
     ]
    },
    {
     "name": "stderr",
     "output_type": "stream",
     "text": [
      " 25%|███████████████████▊                                                          | 71/280 [00:12<00:33,  6.28batch/s]"
     ]
    },
    {
     "name": "stdout",
     "output_type": "stream",
     "text": [
      "[13,    70] loss: 0.028\n"
     ]
    },
    {
     "name": "stderr",
     "output_type": "stream",
     "text": [
      " 50%|██████████████████████████████████████▊                                      | 141/280 [00:24<00:20,  6.68batch/s]"
     ]
    },
    {
     "name": "stdout",
     "output_type": "stream",
     "text": [
      "[13,   140] loss: 0.016\n"
     ]
    },
    {
     "name": "stderr",
     "output_type": "stream",
     "text": [
      " 75%|██████████████████████████████████████████████████████████                   | 211/280 [00:37<00:10,  6.29batch/s]"
     ]
    },
    {
     "name": "stdout",
     "output_type": "stream",
     "text": [
      "[13,   210] loss: 0.011\n"
     ]
    },
    {
     "name": "stderr",
     "output_type": "stream",
     "text": [
      "100%|█████████████████████████████████████████████████████████████████████████████| 280/280 [00:49<00:00,  5.62batch/s]\n"
     ]
    },
    {
     "name": "stdout",
     "output_type": "stream",
     "text": [
      "[13,   280] loss: 0.016\n"
     ]
    },
    {
     "name": "stderr",
     "output_type": "stream",
     "text": [
      " 25%|███████████████████▊                                                          | 71/280 [00:12<00:35,  5.91batch/s]"
     ]
    },
    {
     "name": "stdout",
     "output_type": "stream",
     "text": [
      "[14,    70] loss: 0.014\n"
     ]
    },
    {
     "name": "stderr",
     "output_type": "stream",
     "text": [
      " 50%|██████████████████████████████████████▊                                      | 141/280 [00:24<00:24,  5.61batch/s]"
     ]
    },
    {
     "name": "stdout",
     "output_type": "stream",
     "text": [
      "[14,   140] loss: 0.019\n"
     ]
    },
    {
     "name": "stderr",
     "output_type": "stream",
     "text": [
      " 75%|█████████████████████████████████████████████████████████▊                   | 210/280 [00:37<00:12,  5.48batch/s]"
     ]
    },
    {
     "name": "stdout",
     "output_type": "stream",
     "text": [
      "[14,   210] loss: 0.009\n"
     ]
    },
    {
     "name": "stderr",
     "output_type": "stream",
     "text": [
      "100%|█████████████████████████████████████████████████████████████████████████████| 280/280 [00:49<00:00,  5.64batch/s]\n"
     ]
    },
    {
     "name": "stdout",
     "output_type": "stream",
     "text": [
      "[14,   280] loss: 0.009\n"
     ]
    },
    {
     "name": "stderr",
     "output_type": "stream",
     "text": [
      " 25%|███████████████████▌                                                          | 70/280 [00:11<00:44,  4.68batch/s]"
     ]
    },
    {
     "name": "stdout",
     "output_type": "stream",
     "text": [
      "[15,    70] loss: 0.008\n"
     ]
    },
    {
     "name": "stderr",
     "output_type": "stream",
     "text": [
      " 50%|██████████████████████████████████████▊                                      | 141/280 [00:24<00:22,  6.18batch/s]"
     ]
    },
    {
     "name": "stdout",
     "output_type": "stream",
     "text": [
      "[15,   140] loss: 0.011\n"
     ]
    },
    {
     "name": "stderr",
     "output_type": "stream",
     "text": [
      " 75%|██████████████████████████████████████████████████████████                   | 211/280 [00:36<00:10,  6.85batch/s]"
     ]
    },
    {
     "name": "stdout",
     "output_type": "stream",
     "text": [
      "[15,   210] loss: 0.006\n"
     ]
    },
    {
     "name": "stderr",
     "output_type": "stream",
     "text": [
      "100%|█████████████████████████████████████████████████████████████████████████████| 280/280 [00:48<00:00,  5.82batch/s]\n"
     ]
    },
    {
     "name": "stdout",
     "output_type": "stream",
     "text": [
      "[15,   280] loss: 0.059\n"
     ]
    },
    {
     "name": "stderr",
     "output_type": "stream",
     "text": [
      " 25%|███████████████████▌                                                          | 70/280 [00:12<00:47,  4.41batch/s]"
     ]
    },
    {
     "name": "stdout",
     "output_type": "stream",
     "text": [
      "[16,    70] loss: 0.053\n"
     ]
    },
    {
     "name": "stderr",
     "output_type": "stream",
     "text": [
      " 50%|██████████████████████████████████████▌                                      | 140/280 [00:25<00:29,  4.79batch/s]"
     ]
    },
    {
     "name": "stdout",
     "output_type": "stream",
     "text": [
      "[16,   140] loss: 0.019\n"
     ]
    },
    {
     "name": "stderr",
     "output_type": "stream",
     "text": [
      " 75%|██████████████████████████████████████████████████████████                   | 211/280 [00:37<00:10,  6.71batch/s]"
     ]
    },
    {
     "name": "stdout",
     "output_type": "stream",
     "text": [
      "[16,   210] loss: 0.020\n"
     ]
    },
    {
     "name": "stderr",
     "output_type": "stream",
     "text": [
      "100%|█████████████████████████████████████████████████████████████████████████████| 280/280 [00:49<00:00,  5.70batch/s]\n"
     ]
    },
    {
     "name": "stdout",
     "output_type": "stream",
     "text": [
      "[16,   280] loss: 0.034\n"
     ]
    },
    {
     "name": "stderr",
     "output_type": "stream",
     "text": [
      " 25%|███████████████████▊                                                          | 71/280 [00:11<00:30,  6.84batch/s]"
     ]
    },
    {
     "name": "stdout",
     "output_type": "stream",
     "text": [
      "[17,    70] loss: 0.051\n"
     ]
    },
    {
     "name": "stderr",
     "output_type": "stream",
     "text": [
      " 50%|██████████████████████████████████████▊                                      | 141/280 [00:25<00:24,  5.60batch/s]"
     ]
    },
    {
     "name": "stdout",
     "output_type": "stream",
     "text": [
      "[17,   140] loss: 0.021\n"
     ]
    },
    {
     "name": "stderr",
     "output_type": "stream",
     "text": [
      " 75%|██████████████████████████████████████████████████████████                   | 211/280 [00:37<00:11,  5.88batch/s]"
     ]
    },
    {
     "name": "stdout",
     "output_type": "stream",
     "text": [
      "[17,   210] loss: 0.014\n"
     ]
    },
    {
     "name": "stderr",
     "output_type": "stream",
     "text": [
      "100%|█████████████████████████████████████████████████████████████████████████████| 280/280 [00:49<00:00,  5.66batch/s]\n"
     ]
    },
    {
     "name": "stdout",
     "output_type": "stream",
     "text": [
      "[17,   280] loss: 0.020\n"
     ]
    },
    {
     "name": "stderr",
     "output_type": "stream",
     "text": [
      " 25%|███████████████████▊                                                          | 71/280 [00:12<00:35,  5.91batch/s]"
     ]
    },
    {
     "name": "stdout",
     "output_type": "stream",
     "text": [
      "[18,    70] loss: 0.031\n"
     ]
    },
    {
     "name": "stderr",
     "output_type": "stream",
     "text": [
      " 50%|██████████████████████████████████████▊                                      | 141/280 [00:24<00:24,  5.70batch/s]"
     ]
    },
    {
     "name": "stdout",
     "output_type": "stream",
     "text": [
      "[18,   140] loss: 0.010\n"
     ]
    },
    {
     "name": "stderr",
     "output_type": "stream",
     "text": [
      " 75%|██████████████████████████████████████████████████████████                   | 211/280 [00:36<00:12,  5.73batch/s]"
     ]
    },
    {
     "name": "stdout",
     "output_type": "stream",
     "text": [
      "[18,   210] loss: 0.019\n"
     ]
    },
    {
     "name": "stderr",
     "output_type": "stream",
     "text": [
      "100%|█████████████████████████████████████████████████████████████████████████████| 280/280 [00:48<00:00,  5.76batch/s]\n"
     ]
    },
    {
     "name": "stdout",
     "output_type": "stream",
     "text": [
      "[18,   280] loss: 0.015\n"
     ]
    },
    {
     "name": "stderr",
     "output_type": "stream",
     "text": [
      " 25%|███████████████████▊                                                          | 71/280 [00:12<00:37,  5.53batch/s]"
     ]
    },
    {
     "name": "stdout",
     "output_type": "stream",
     "text": [
      "[19,    70] loss: 0.024\n"
     ]
    },
    {
     "name": "stderr",
     "output_type": "stream",
     "text": [
      " 50%|██████████████████████████████████████▊                                      | 141/280 [00:23<00:22,  6.29batch/s]"
     ]
    },
    {
     "name": "stdout",
     "output_type": "stream",
     "text": [
      "[19,   140] loss: 0.012\n"
     ]
    },
    {
     "name": "stderr",
     "output_type": "stream",
     "text": [
      " 75%|██████████████████████████████████████████████████████████                   | 211/280 [00:37<00:13,  5.15batch/s]"
     ]
    },
    {
     "name": "stdout",
     "output_type": "stream",
     "text": [
      "[19,   210] loss: 0.009\n"
     ]
    },
    {
     "name": "stderr",
     "output_type": "stream",
     "text": [
      "100%|█████████████████████████████████████████████████████████████████████████████| 280/280 [00:47<00:00,  5.84batch/s]\n"
     ]
    },
    {
     "name": "stdout",
     "output_type": "stream",
     "text": [
      "[19,   280] loss: 0.006\n"
     ]
    },
    {
     "name": "stderr",
     "output_type": "stream",
     "text": [
      " 25%|███████████████████▌                                                          | 70/280 [00:13<00:48,  4.35batch/s]"
     ]
    },
    {
     "name": "stdout",
     "output_type": "stream",
     "text": [
      "[20,    70] loss: 0.008\n"
     ]
    },
    {
     "name": "stderr",
     "output_type": "stream",
     "text": [
      " 50%|██████████████████████████████████████▌                                      | 140/280 [00:28<00:30,  4.61batch/s]"
     ]
    },
    {
     "name": "stdout",
     "output_type": "stream",
     "text": [
      "[20,   140] loss: 0.005\n"
     ]
    },
    {
     "name": "stderr",
     "output_type": "stream",
     "text": [
      " 75%|█████████████████████████████████████████████████████████▊                   | 210/280 [00:43<00:14,  4.80batch/s]"
     ]
    },
    {
     "name": "stdout",
     "output_type": "stream",
     "text": [
      "[20,   210] loss: 0.006\n"
     ]
    },
    {
     "name": "stderr",
     "output_type": "stream",
     "text": [
      "100%|█████████████████████████████████████████████████████████████████████████████| 280/280 [00:58<00:00,  4.81batch/s]"
     ]
    },
    {
     "name": "stdout",
     "output_type": "stream",
     "text": [
      "[20,   280] loss: 0.016\n"
     ]
    },
    {
     "name": "stderr",
     "output_type": "stream",
     "text": [
      "\n"
     ]
    }
   ],
   "source": [
    "shuffle_adb, train_loss_adb = train_model(shufflenet)"
   ]
  },
  {
   "cell_type": "code",
   "execution_count": 40,
   "id": "41649656",
   "metadata": {
    "id": "41649656",
    "outputId": "015312d2-cca4-4db2-e522-c1f42ee708eb",
    "pycharm": {
     "name": "#%%\n"
    }
   },
   "outputs": [
    {
     "name": "stdout",
     "output_type": "stream",
     "text": [
      "Accuracy of the network on the test images: 96 %\n"
     ]
    }
   ],
   "source": [
    "test_model(shuffle_adb)"
   ]
  },
  {
   "cell_type": "code",
   "execution_count": null,
   "id": "b963782d",
   "metadata": {
    "id": "b963782d",
    "outputId": "3badbb29-eb5c-449e-ad3b-dd9b0f21ba01",
    "pycharm": {
     "name": "#%%\n"
    }
   },
   "outputs": [],
   "source": []
  },
  {
   "cell_type": "code",
   "execution_count": 41,
   "id": "dd27ca14",
   "metadata": {
    "id": "dd27ca14",
    "outputId": "0f18e69b-ca15-4719-9ba1-c75d56b7881f",
    "pycharm": {
     "name": "#%%\n"
    }
   },
   "outputs": [
    {
     "data": {
      "image/png": "[encoded data removed]",
      "text/plain": [
       "<Figure size 1400x800 with 1 Axes>"
      ]
     },
     "metadata": {},
     "output_type": "display_data"
    }
   ],
   "source": [
    "# Train Loss v Test Accuracy Plot_AdaBound\n",
    "plt.figure(figsize=(14,8))\n",
    "plt.plot(train_loss_adb, color='r')\n",
    "plt.xlabel('Epochs')\n",
    "plt.ylabel('Accuracy_Loss')\n",
    "plt.legend(['Train Loss','Test Accuracy'])\n",
    "plt.title('Train Loss vs Test Accuracy Plot_ShuffleNet v2_AdaBound Optimizer')\n",
    "plt.show()"
   ]
  },
  {
   "cell_type": "code",
   "execution_count": 118,
   "id": "5a76eb9f",
   "metadata": {
    "id": "5a76eb9f",
    "pycharm": {
     "name": "#%%\n"
    }
   },
   "outputs": [],
   "source": [
    "# Saving ShuffleNet v2 model -> AdaBound Optimizer\n",
    "torch.save(shuffle_adb.state_dict(), os.path.join(owd, 'ShuffleNet v2__AdaBound.pth'))"
   ]
  },
  {
   "cell_type": "code",
   "execution_count": 42,
   "id": "60e0562b",
   "metadata": {
    "id": "60e0562b",
    "pycharm": {
     "name": "#%%\n"
    }
   },
   "outputs": [
    {
     "data": {
      "image/png": "[encoded data removed]",
      "text/plain": [
       "<Figure size 1400x800 with 1 Axes>"
      ]
     },
     "metadata": {},
     "output_type": "display_data"
    }
   ],
   "source": [
    "plt.figure(figsize=(14,8))\n",
    "plt.plot(train_loss_adam, color='r')\n",
    "plt.plot(train_loss_sgd, color='blue')\n",
    "plt.plot(train_loss_rms, color='g')\n",
    "plt.plot(train_loss_adb, color='black')\n",
    "plt.xlabel('Epochs')\n",
    "plt.ylabel('Accuracy_Loss')\n",
    "plt.legend(['resnet_adam','resnet_sgd_momentum', 'resnet_RMSProp','shufflenet_AdaBound'])\n",
    "plt.title('training loss comparison')\n",
    "plt.show()\n"
   ]
  },
  {
   "cell_type": "code",
   "execution_count": null,
   "id": "f64b67a9",
   "metadata": {},
   "outputs": [],
   "source": []
  },
  {
   "cell_type": "code",
   "execution_count": null,
   "id": "b7ab7a71",
   "metadata": {},
   "outputs": [],
   "source": []
  },
  {
   "cell_type": "code",
   "execution_count": null,
   "id": "0593f0a4",
   "metadata": {},
   "outputs": [],
   "source": []
  },
  {
   "cell_type": "code",
   "execution_count": null,
   "id": "41ffd4a9",
   "metadata": {},
   "outputs": [],
   "source": []
  },
  {
   "cell_type": "code",
   "execution_count": null,
   "id": "3b427400",
   "metadata": {},
   "outputs": [],
   "source": []
  }
 ],
 "metadata": {
  "colab": {
   "collapsed_sections": [
    "5834991a",
    "6fd90e07",
    "e13556a9",
    "e10071c1",
    "1f2f7b81"
   ],
   "provenance": []
  },
  "kernelspec": {
   "display_name": "Python 3",
   "language": "python",
   "name": "python3"
  },
  "language_info": {
   "codemirror_mode": {
    "name": "ipython",
    "version": 3
   },
   "file_extension": ".py",
   "mimetype": "text/x-python",
   "name": "python",
   "nbconvert_exporter": "python",
   "pygments_lexer": "ipython3",
   "version": "3.8.8"
  }
 },
 "nbformat": 4,
 "nbformat_minor": 5
}
